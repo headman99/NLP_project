{
  "cells": [
    {
      "cell_type": "markdown",
      "metadata": {
        "id": "-WeCeITXoxLf"
      },
      "source": [
        "# Assignment 1\n",
        "\n",
        "**Credits**: Federico Ruggeri, Eleonora Mancini, Paolo Torroni\n",
        "\n",
        "**Keywords**: POS tagging, Sequence labelling, RNNs"
      ]
    },
    {
      "cell_type": "markdown",
      "metadata": {
        "id": "3U9i-LuGHeKe"
      },
      "source": [
        "\n",
        "# Contact\n",
        "\n",
        "For any doubt, question, issue or help, you can always contact us at the following email addresses:\n",
        "\n",
        "Teaching Assistants:\n",
        "\n",
        "* Federico Ruggeri -> federico.ruggeri6@unibo.it\n",
        "* Eleonora Mancini -> e.mancini@unibo.it\n",
        "\n",
        "Professor:\n",
        "\n",
        "* Paolo Torroni -> p.torroni@unibo.it"
      ]
    },
    {
      "cell_type": "markdown",
      "metadata": {
        "id": "qToB9QkGHeKf"
      },
      "source": [
        "# Introduction\n",
        "\n",
        "You are tasked to address the task of POS tagging.\n",
        "\n",
        "<center>\n",
        "    <img src=\"images/pos_tagging.png\" alt=\"POS tagging\" />\n",
        "</center>"
      ]
    },
    {
      "cell_type": "markdown",
      "metadata": {
        "id": "GXwi24v4HeKf"
      },
      "source": [
        "# [Task 1 - 0.5 points] Corpus\n",
        "\n",
        "You are going to work with the [Penn TreeBank corpus](https://raw.githubusercontent.com/nltk/nltk_data/gh-pages/packages/corpora/dependency_treebank.zip).\n",
        "\n",
        "**Ignore** the numeric value in the third column, use **only** the words/symbols and their POS label.\n",
        "\n",
        "### Example\n",
        "\n",
        "```Pierre\tNNP\t2\n",
        "Vinken\tNNP\t8\n",
        ",\t,\t2\n",
        "61\tCD\t5\n",
        "years\tNNS\t6\n",
        "old\tJJ\t2\n",
        ",\t,\t2\n",
        "will\tMD\t0\n",
        "join\tVB\t8\n",
        "the\tDT\t11\n",
        "board\tNN\t9\n",
        "as\tIN\t9\n",
        "a\tDT\t15\n",
        "nonexecutive\tJJ\t15\n",
        "director\tNN\t12\n",
        "Nov.\tNNP\t9\n",
        "29\tCD\t16\n",
        ".\t.\t8\n",
        "```"
      ]
    },
    {
      "cell_type": "code",
      "execution_count": null,
      "metadata": {
        "id": "IlHaDZi6PEX-"
      },
      "outputs": [],
      "source": [
        "# system packages\n",
        "from itertools import groupby\n",
        "from pathlib import Path\n",
        "import shutil\n",
        "import urllib\n",
        "import zipfile\n",
        "import sys\n",
        "import random\n",
        "\n",
        "# data and numerical management packages\n",
        "import matplotlib.pyplot as plt\n",
        "import pandas as pd\n",
        "import numpy as np\n",
        "\n",
        "# useful during debugging (progress bars)\n",
        "from tqdm import tqdm\n",
        "\n",
        "# typing\n",
        "from typing import List, Callable, Dict\n",
        "\n",
        "# machine learning\n",
        "import tensorflow as tf\n",
        "import keras\n",
        "\n",
        "# Reproducibility\n",
        "seed = 23\n",
        "\n",
        "random.seed(seed)\n",
        "np.random.seed(seed)\n",
        "keras.utils.set_random_seed(seed)\n",
        "tf.random.set_seed(seed)\n",
        "tf.config.experimental.enable_op_determinism()"
      ]
    },
    {
      "cell_type": "code",
      "execution_count": null,
      "metadata": {
        "colab": {
          "base_uri": "https://localhost:8080/"
        },
        "id": "-n2YrjvIO06-",
        "outputId": "9cd11c11-d9f4-4a0f-f29a-cde798e12735"
      },
      "outputs": [
        {
          "data": {
            "text/plain": [
              "{'width': 2560, 'height': 1440, 'scroll': True}"
            ]
          },
          "execution_count": 2,
          "metadata": {},
          "output_type": "execute_result"
        }
      ],
      "source": [
        "from notebook.services.config import ConfigManager\n",
        "cm = ConfigManager()\n",
        "cm.update('livereveal', {\n",
        "        'width': 2560,\n",
        "        'height': 1440,\n",
        "        'scroll': True,\n",
        "})"
      ]
    },
    {
      "cell_type": "markdown",
      "metadata": {
        "id": "MwD1QPgmHeKg"
      },
      "source": [
        "### Splits\n",
        "\n",
        "The corpus contains 200 documents.\n",
        "\n",
        "   * **Train**: Documents 1-100\n",
        "   * **Validation**: Documents 101-150\n",
        "   * **Test**: Documents 151-199"
      ]
    },
    {
      "cell_type": "markdown",
      "metadata": {
        "id": "tIy7VfkiHeKg"
      },
      "source": [
        "### Instructions\n",
        "\n",
        "* **Download** the corpus.\n",
        "* **Encode** the corpus into a pandas.DataFrame object.\n",
        "* **Split** it in training, validation, and test sets."
      ]
    },
    {
      "cell_type": "code",
      "execution_count": null,
      "metadata": {
        "id": "3pu4juahO1eQ"
      },
      "outputs": [],
      "source": [
        "class DownloadProgressBar(tqdm):\n",
        "    def update_to(self, b=1, bsize=1, tsize=None):\n",
        "        if tsize is not None:\n",
        "            self.total = tsize\n",
        "        self.update(b * bsize - self.n)\n",
        "\n",
        "def download_url(download_path: Path, url: str):\n",
        "    with DownloadProgressBar(unit='B', unit_scale=True,\n",
        "                             miniters=1, desc=url.split('/')[-1]) as t:\n",
        "        urllib.request.urlretrieve(url, filename=download_path, reporthook=t.update_to)\n",
        "\n",
        "\n",
        "def download_dataset(download_path: Path, url: str):\n",
        "    print(\"Downloading dataset...\")\n",
        "    download_url(url=url, download_path=download_path)\n",
        "    print(\"Download complete!\")\n",
        "\n",
        "def extract_dataset(download_path: Path, extract_path: Path):\n",
        "    print(\"Extracting dataset... (it may take a while...)\")\n",
        "    zip_ref = zipfile.ZipFile(download_path, 'r')\n",
        "    zip_ref.extractall(extract_path)\n",
        "    zip_ref.close()\n",
        "    print(\"Extraction completed!\")"
      ]
    },
    {
      "cell_type": "code",
      "execution_count": null,
      "metadata": {
        "colab": {
          "base_uri": "https://localhost:8080/"
        },
        "id": "uM3IthEUO30G",
        "outputId": "aafd4aee-d564-496f-f7cd-a85deb76c7f0"
      },
      "outputs": [
        {
          "name": "stdout",
          "output_type": "stream",
          "text": [
            "Current work directory: /content\n"
          ]
        }
      ],
      "source": [
        "url = \"https://raw.githubusercontent.com/nltk/nltk_data/gh-pages/packages/corpora/dependency_treebank.zip\"\n",
        "dataset_name = \"dependency_treebank\"\n",
        "\n",
        "print(f\"Current work directory: {Path.cwd()}\")\n",
        "dataset_folder = Path.cwd().joinpath(\"Datasets\")\n",
        "\n",
        "if not dataset_folder.exists():\n",
        "    dataset_folder.mkdir(parents=True)\n",
        "\n",
        "dataset_tar_path = dataset_folder.joinpath(\"dependency_treebank.zip\")\n",
        "dataset_path = dataset_folder.joinpath(dataset_name)\n",
        "\n",
        "if not dataset_tar_path.exists():\n",
        "    download_dataset(dataset_tar_path, url)\n",
        "\n",
        "if not dataset_path.exists():\n",
        "    extract_dataset(dataset_tar_path, dataset_folder)"
      ]
    },
    {
      "cell_type": "code",
      "execution_count": null,
      "metadata": {
        "id": "Dc5dxB5uhEI-"
      },
      "outputs": [],
      "source": [
        "# Establish path to each split documents\n",
        "folder = dataset_folder.joinpath(dataset_name)\n",
        "\n",
        "train_files = [f\"{folder}/wsj_{f_index:04}.dp\" for f_index in range(1, 100 + 1)]\n",
        "valid_files = [f\"{folder}/wsj_{f_index:04}.dp\" for f_index in range(101, 150 + 1)]\n",
        "test_files = [f\"{folder}/wsj_{f_index:04}.dp\" for f_index in range(151, 199 + 1)]\n",
        "\n",
        "splits = [train_files, valid_files, test_files]"
      ]
    },
    {
      "cell_type": "code",
      "execution_count": null,
      "metadata": {
        "id": "QH68VAN5UtnW"
      },
      "outputs": [],
      "source": [
        "datarows = []\n",
        "\n",
        "for split in splits:\n",
        "\n",
        "  dataframe_rows = []\n",
        "\n",
        "  for file_path in split:\n",
        "    with open(file_path, mode='r', encoding='utf-8') as text_file:\n",
        "\n",
        "      lines = text_file.read().splitlines()\n",
        "      doc_sentences = [list(group) for key, group in groupby(lines, lambda x: x != '') if key]\n",
        "\n",
        "      for sentence in doc_sentences:\n",
        "        dataframe_rows.append({\n",
        "            \"sequence\": [el.split(\"\\t\")[0] for el in sentence],\n",
        "            \"pos_tags\": [el.split(\"\\t\")[1] for el in sentence]\n",
        "        })\n",
        "\n",
        "  datarows.append(dataframe_rows)"
      ]
    },
    {
      "cell_type": "code",
      "execution_count": null,
      "metadata": {
        "id": "R44KfTINO9Fw"
      },
      "outputs": [],
      "source": [
        "# transform the list of rows in a proper dataframe\n",
        "dataset = {\n",
        "    \"train\": pd.DataFrame(datarows[0], columns=[\"sequence\",\"pos_tags\"]),\n",
        "    \"valid\": pd.DataFrame(datarows[1], columns=[\"sequence\",\"pos_tags\"]),\n",
        "    \"test\": pd.DataFrame(datarows[2], columns=[\"sequence\",\"pos_tags\"])\n",
        "}"
      ]
    },
    {
      "cell_type": "code",
      "execution_count": null,
      "metadata": {
        "colab": {
          "base_uri": "https://localhost:8080/",
          "height": 1000
        },
        "id": "qSRtu4wceDJX",
        "outputId": "36b3c0c6-ed9b-4a81-c475-70ec82227549"
      },
      "outputs": [
        {
          "name": "stdout",
          "output_type": "stream",
          "text": [
            "Train split: (1963, 2)\n",
            "Validation split: (1299, 2)\n",
            "Test split: (652, 2)\n",
            "Dataset columns: ['sequence' 'pos_tags']\n",
            "Classes distribution:\n",
            "NN       6270\n",
            "NNP      5202\n",
            "IN       4952\n",
            "DT       4076\n",
            "NNS      3004\n",
            "JJ       2992\n",
            ",        2571\n",
            ".        1959\n",
            "VBD      1548\n",
            "RB       1490\n",
            "CD       1439\n",
            "VB       1195\n",
            "CC       1141\n",
            "VBZ      1133\n",
            "VBN      1031\n",
            "TO       1028\n",
            "PRP       954\n",
            "VBG       763\n",
            "VBP       727\n",
            "MD        413\n",
            "PRP$      409\n",
            "``        409\n",
            "POS       403\n",
            "''        399\n",
            "$         342\n",
            ":         293\n",
            "WDT       204\n",
            "JJR       157\n",
            "WP        141\n",
            "RP        140\n",
            "NNPS       95\n",
            "JJS        93\n",
            "WRB        92\n",
            "RBR        86\n",
            "-RRB-      55\n",
            "-LRB-      52\n",
            "EX         49\n",
            "RBS        19\n",
            "LS         10\n",
            "PDT         9\n",
            "WP$         6\n",
            "FW          2\n",
            "UH          1\n",
            "SYM         1\n",
            "#           1\n",
            "Name: pos_tags, dtype: int64\n",
            "Some examples:\n"
          ]
        },
        {
          "data": {
            "text/html": [
              "\n",
              "  <div id=\"df-144fb66d-f55f-46b1-9ad0-e349bdfff535\" class=\"colab-df-container\">\n",
              "    <div>\n",
              "<style scoped>\n",
              "    .dataframe tbody tr th:only-of-type {\n",
              "        vertical-align: middle;\n",
              "    }\n",
              "\n",
              "    .dataframe tbody tr th {\n",
              "        vertical-align: top;\n",
              "    }\n",
              "\n",
              "    .dataframe thead th {\n",
              "        text-align: right;\n",
              "    }\n",
              "</style>\n",
              "<table border=\"1\" class=\"dataframe\">\n",
              "  <thead>\n",
              "    <tr style=\"text-align: right;\">\n",
              "      <th></th>\n",
              "      <th>sequence</th>\n",
              "      <th>pos_tags</th>\n",
              "    </tr>\n",
              "  </thead>\n",
              "  <tbody>\n",
              "    <tr>\n",
              "      <th>0</th>\n",
              "      <td>[Pierre, Vinken, ,, 61, years, old, ,, will, j...</td>\n",
              "      <td>[NNP, NNP, ,, CD, NNS, JJ, ,, MD, VB, DT, NN, ...</td>\n",
              "    </tr>\n",
              "    <tr>\n",
              "      <th>1</th>\n",
              "      <td>[Mr., Vinken, is, chairman, of, Elsevier, N.V....</td>\n",
              "      <td>[NNP, NNP, VBZ, NN, IN, NNP, NNP, ,, DT, NNP, ...</td>\n",
              "    </tr>\n",
              "    <tr>\n",
              "      <th>2</th>\n",
              "      <td>[Rudolph, Agnew, ,, 55, years, old, and, forme...</td>\n",
              "      <td>[NNP, NNP, ,, CD, NNS, JJ, CC, JJ, NN, IN, NNP...</td>\n",
              "    </tr>\n",
              "    <tr>\n",
              "      <th>3</th>\n",
              "      <td>[A, form, of, asbestos, once, used, to, make, ...</td>\n",
              "      <td>[DT, NN, IN, NN, RB, VBN, TO, VB, NNP, NN, NNS...</td>\n",
              "    </tr>\n",
              "    <tr>\n",
              "      <th>4</th>\n",
              "      <td>[The, asbestos, fiber, ,, crocidolite, ,, is, ...</td>\n",
              "      <td>[DT, NN, NN, ,, NN, ,, VBZ, RB, JJ, IN, PRP, V...</td>\n",
              "    </tr>\n",
              "  </tbody>\n",
              "</table>\n",
              "</div>\n",
              "    <div class=\"colab-df-buttons\">\n",
              "\n",
              "  <div class=\"colab-df-container\">\n",
              "    <button class=\"colab-df-convert\" onclick=\"convertToInteractive('df-144fb66d-f55f-46b1-9ad0-e349bdfff535')\"\n",
              "            title=\"Convert this dataframe to an interactive table.\"\n",
              "            style=\"display:none;\">\n",
              "\n",
              "  <svg xmlns=\"http://www.w3.org/2000/svg\" height=\"24px\" viewBox=\"0 -960 960 960\">\n",
              "    <path d=\"M120-120v-720h720v720H120Zm60-500h600v-160H180v160Zm220 220h160v-160H400v160Zm0 220h160v-160H400v160ZM180-400h160v-160H180v160Zm440 0h160v-160H620v160ZM180-180h160v-160H180v160Zm440 0h160v-160H620v160Z\"/>\n",
              "  </svg>\n",
              "    </button>\n",
              "\n",
              "  <style>\n",
              "    .colab-df-container {\n",
              "      display:flex;\n",
              "      gap: 12px;\n",
              "    }\n",
              "\n",
              "    .colab-df-convert {\n",
              "      background-color: #E8F0FE;\n",
              "      border: none;\n",
              "      border-radius: 50%;\n",
              "      cursor: pointer;\n",
              "      display: none;\n",
              "      fill: #1967D2;\n",
              "      height: 32px;\n",
              "      padding: 0 0 0 0;\n",
              "      width: 32px;\n",
              "    }\n",
              "\n",
              "    .colab-df-convert:hover {\n",
              "      background-color: #E2EBFA;\n",
              "      box-shadow: 0px 1px 2px rgba(60, 64, 67, 0.3), 0px 1px 3px 1px rgba(60, 64, 67, 0.15);\n",
              "      fill: #174EA6;\n",
              "    }\n",
              "\n",
              "    .colab-df-buttons div {\n",
              "      margin-bottom: 4px;\n",
              "    }\n",
              "\n",
              "    [theme=dark] .colab-df-convert {\n",
              "      background-color: #3B4455;\n",
              "      fill: #D2E3FC;\n",
              "    }\n",
              "\n",
              "    [theme=dark] .colab-df-convert:hover {\n",
              "      background-color: #434B5C;\n",
              "      box-shadow: 0px 1px 3px 1px rgba(0, 0, 0, 0.15);\n",
              "      filter: drop-shadow(0px 1px 2px rgba(0, 0, 0, 0.3));\n",
              "      fill: #FFFFFF;\n",
              "    }\n",
              "  </style>\n",
              "\n",
              "    <script>\n",
              "      const buttonEl =\n",
              "        document.querySelector('#df-144fb66d-f55f-46b1-9ad0-e349bdfff535 button.colab-df-convert');\n",
              "      buttonEl.style.display =\n",
              "        google.colab.kernel.accessAllowed ? 'block' : 'none';\n",
              "\n",
              "      async function convertToInteractive(key) {\n",
              "        const element = document.querySelector('#df-144fb66d-f55f-46b1-9ad0-e349bdfff535');\n",
              "        const dataTable =\n",
              "          await google.colab.kernel.invokeFunction('convertToInteractive',\n",
              "                                                    [key], {});\n",
              "        if (!dataTable) return;\n",
              "\n",
              "        const docLinkHtml = 'Like what you see? Visit the ' +\n",
              "          '<a target=\"_blank\" href=https://colab.research.google.com/notebooks/data_table.ipynb>data table notebook</a>'\n",
              "          + ' to learn more about interactive tables.';\n",
              "        element.innerHTML = '';\n",
              "        dataTable['output_type'] = 'display_data';\n",
              "        await google.colab.output.renderOutput(dataTable, element);\n",
              "        const docLink = document.createElement('div');\n",
              "        docLink.innerHTML = docLinkHtml;\n",
              "        element.appendChild(docLink);\n",
              "      }\n",
              "    </script>\n",
              "  </div>\n",
              "\n",
              "\n",
              "<div id=\"df-7e3cbf45-7385-4e42-8098-d4713b1a563a\">\n",
              "  <button class=\"colab-df-quickchart\" onclick=\"quickchart('df-7e3cbf45-7385-4e42-8098-d4713b1a563a')\"\n",
              "            title=\"Suggest charts\"\n",
              "            style=\"display:none;\">\n",
              "\n",
              "<svg xmlns=\"http://www.w3.org/2000/svg\" height=\"24px\"viewBox=\"0 0 24 24\"\n",
              "     width=\"24px\">\n",
              "    <g>\n",
              "        <path d=\"M19 3H5c-1.1 0-2 .9-2 2v14c0 1.1.9 2 2 2h14c1.1 0 2-.9 2-2V5c0-1.1-.9-2-2-2zM9 17H7v-7h2v7zm4 0h-2V7h2v10zm4 0h-2v-4h2v4z\"/>\n",
              "    </g>\n",
              "</svg>\n",
              "  </button>\n",
              "\n",
              "<style>\n",
              "  .colab-df-quickchart {\n",
              "      --bg-color: #E8F0FE;\n",
              "      --fill-color: #1967D2;\n",
              "      --hover-bg-color: #E2EBFA;\n",
              "      --hover-fill-color: #174EA6;\n",
              "      --disabled-fill-color: #AAA;\n",
              "      --disabled-bg-color: #DDD;\n",
              "  }\n",
              "\n",
              "  [theme=dark] .colab-df-quickchart {\n",
              "      --bg-color: #3B4455;\n",
              "      --fill-color: #D2E3FC;\n",
              "      --hover-bg-color: #434B5C;\n",
              "      --hover-fill-color: #FFFFFF;\n",
              "      --disabled-bg-color: #3B4455;\n",
              "      --disabled-fill-color: #666;\n",
              "  }\n",
              "\n",
              "  .colab-df-quickchart {\n",
              "    background-color: var(--bg-color);\n",
              "    border: none;\n",
              "    border-radius: 50%;\n",
              "    cursor: pointer;\n",
              "    display: none;\n",
              "    fill: var(--fill-color);\n",
              "    height: 32px;\n",
              "    padding: 0;\n",
              "    width: 32px;\n",
              "  }\n",
              "\n",
              "  .colab-df-quickchart:hover {\n",
              "    background-color: var(--hover-bg-color);\n",
              "    box-shadow: 0 1px 2px rgba(60, 64, 67, 0.3), 0 1px 3px 1px rgba(60, 64, 67, 0.15);\n",
              "    fill: var(--button-hover-fill-color);\n",
              "  }\n",
              "\n",
              "  .colab-df-quickchart-complete:disabled,\n",
              "  .colab-df-quickchart-complete:disabled:hover {\n",
              "    background-color: var(--disabled-bg-color);\n",
              "    fill: var(--disabled-fill-color);\n",
              "    box-shadow: none;\n",
              "  }\n",
              "\n",
              "  .colab-df-spinner {\n",
              "    border: 2px solid var(--fill-color);\n",
              "    border-color: transparent;\n",
              "    border-bottom-color: var(--fill-color);\n",
              "    animation:\n",
              "      spin 1s steps(1) infinite;\n",
              "  }\n",
              "\n",
              "  @keyframes spin {\n",
              "    0% {\n",
              "      border-color: transparent;\n",
              "      border-bottom-color: var(--fill-color);\n",
              "      border-left-color: var(--fill-color);\n",
              "    }\n",
              "    20% {\n",
              "      border-color: transparent;\n",
              "      border-left-color: var(--fill-color);\n",
              "      border-top-color: var(--fill-color);\n",
              "    }\n",
              "    30% {\n",
              "      border-color: transparent;\n",
              "      border-left-color: var(--fill-color);\n",
              "      border-top-color: var(--fill-color);\n",
              "      border-right-color: var(--fill-color);\n",
              "    }\n",
              "    40% {\n",
              "      border-color: transparent;\n",
              "      border-right-color: var(--fill-color);\n",
              "      border-top-color: var(--fill-color);\n",
              "    }\n",
              "    60% {\n",
              "      border-color: transparent;\n",
              "      border-right-color: var(--fill-color);\n",
              "    }\n",
              "    80% {\n",
              "      border-color: transparent;\n",
              "      border-right-color: var(--fill-color);\n",
              "      border-bottom-color: var(--fill-color);\n",
              "    }\n",
              "    90% {\n",
              "      border-color: transparent;\n",
              "      border-bottom-color: var(--fill-color);\n",
              "    }\n",
              "  }\n",
              "</style>\n",
              "\n",
              "  <script>\n",
              "    async function quickchart(key) {\n",
              "      const quickchartButtonEl =\n",
              "        document.querySelector('#' + key + ' button');\n",
              "      quickchartButtonEl.disabled = true;  // To prevent multiple clicks.\n",
              "      quickchartButtonEl.classList.add('colab-df-spinner');\n",
              "      try {\n",
              "        const charts = await google.colab.kernel.invokeFunction(\n",
              "            'suggestCharts', [key], {});\n",
              "      } catch (error) {\n",
              "        console.error('Error during call to suggestCharts:', error);\n",
              "      }\n",
              "      quickchartButtonEl.classList.remove('colab-df-spinner');\n",
              "      quickchartButtonEl.classList.add('colab-df-quickchart-complete');\n",
              "    }\n",
              "    (() => {\n",
              "      let quickchartButtonEl =\n",
              "        document.querySelector('#df-7e3cbf45-7385-4e42-8098-d4713b1a563a button');\n",
              "      quickchartButtonEl.style.display =\n",
              "        google.colab.kernel.accessAllowed ? 'block' : 'none';\n",
              "    })();\n",
              "  </script>\n",
              "</div>\n",
              "    </div>\n",
              "  </div>\n"
            ],
            "text/plain": [
              "                                            sequence  \\\n",
              "0  [Pierre, Vinken, ,, 61, years, old, ,, will, j...   \n",
              "1  [Mr., Vinken, is, chairman, of, Elsevier, N.V....   \n",
              "2  [Rudolph, Agnew, ,, 55, years, old, and, forme...   \n",
              "3  [A, form, of, asbestos, once, used, to, make, ...   \n",
              "4  [The, asbestos, fiber, ,, crocidolite, ,, is, ...   \n",
              "\n",
              "                                            pos_tags  \n",
              "0  [NNP, NNP, ,, CD, NNS, JJ, ,, MD, VB, DT, NN, ...  \n",
              "1  [NNP, NNP, VBZ, NN, IN, NNP, NNP, ,, DT, NNP, ...  \n",
              "2  [NNP, NNP, ,, CD, NNS, JJ, CC, JJ, NN, IN, NNP...  \n",
              "3  [DT, NN, IN, NN, RB, VBN, TO, VB, NNP, NN, NNS...  \n",
              "4  [DT, NN, NN, ,, NN, ,, VBZ, RB, JJ, IN, PRP, V...  "
            ]
          },
          "execution_count": 8,
          "metadata": {},
          "output_type": "execute_result"
        }
      ],
      "source": [
        "print(f\"Train split: {dataset['train'].shape}\")\n",
        "print(f\"Validation split: {dataset['valid'].shape}\")\n",
        "print(f\"Test split: {dataset['test'].shape}\")\n",
        "\n",
        "print(f\"Dataset columns: {dataset['train'].columns.values}\")\n",
        "\n",
        "POS_TAGS = dataset['train']['pos_tags'].explode()\n",
        "pos_tags_count = POS_TAGS.value_counts()\n",
        "print(f\"Classes distribution:\\n{pos_tags_count}\")\n",
        "\n",
        "print(f\"Some examples:\")\n",
        "dataset['train'].head()"
      ]
    },
    {
      "cell_type": "markdown",
      "metadata": {
        "id": "O4_soCx1HeKg"
      },
      "source": [
        "# [Task 2 - 0.5 points] Text encoding\n",
        "\n",
        "To train a neural POS tagger, you first need to encode text into numerical format."
      ]
    },
    {
      "cell_type": "markdown",
      "metadata": {
        "id": "X4rtkKXbHeKh"
      },
      "source": [
        "### Instructions\n",
        "\n",
        "* Embed words using **GloVe embeddings**.\n",
        "* You are **free** to pick any embedding dimension.\n",
        "* [Optional] You are free to experiment with text pre-processing: **make sure you do not delete any token!**"
      ]
    },
    {
      "cell_type": "markdown",
      "metadata": {
        "id": "bSo6I0rIdm4-"
      },
      "source": [
        "###Preprocessing\n",
        "Let's do some pre-processing first before building the vocabulary."
      ]
    },
    {
      "cell_type": "code",
      "execution_count": null,
      "metadata": {
        "id": "_7HqhEjl8cqg",
        "scrolled": false
      },
      "outputs": [],
      "source": [
        "def lower(text: str) -> str:\n",
        "    \"\"\"\n",
        "    Transforms given text to lower case.\n",
        "    \"\"\"\n",
        "    return text.lower()"
      ]
    },
    {
      "cell_type": "code",
      "execution_count": null,
      "metadata": {
        "id": "2Q7J8I7BQV8Y"
      },
      "outputs": [],
      "source": [
        "from functools import reduce\n",
        "\n",
        "PREPROCESSING_PIPELINE = [lower]\n",
        "\n",
        "def text_prepare(text: str,\n",
        "                 filter_methods: List[Callable[[str], str]] = None) -> str:\n",
        "    \"\"\"\n",
        "    Applies a list of pre-processing functions in sequence (reduce).\n",
        "    Note that the order is important here!\n",
        "    \"\"\"\n",
        "    filter_methods = filter_methods if filter_methods is not None else PREPROCESSING_PIPELINE\n",
        "    return reduce(lambda txt, f: f(txt), filter_methods, text)"
      ]
    },
    {
      "cell_type": "code",
      "execution_count": null,
      "metadata": {
        "colab": {
          "base_uri": "https://localhost:8080/"
        },
        "id": "9KUOHELCQX1p",
        "outputId": "ac9da972-c498-4520-c8a6-49e4f83284d8"
      },
      "outputs": [
        {
          "name": "stdout",
          "output_type": "stream",
          "text": [
            "Pre-processing text...\n",
            "\n",
            "[Debug] Before:\n",
            "0    [Pierre, Vinken, ,, 61, years, old, ,, will, j...\n",
            "1    [Mr., Vinken, is, chairman, of, Elsevier, N.V....\n",
            "2    [Rudolph, Agnew, ,, 55, years, old, and, forme...\n",
            "3    [A, form, of, asbestos, once, used, to, make, ...\n",
            "4    [The, asbestos, fiber, ,, crocidolite, ,, is, ...\n",
            "5    [Lorillard, Inc., ,, the, unit, of, New, York-...\n",
            "6    [Although, preliminary, findings, were, report...\n",
            "7    [A, Lorillard, spokewoman, said, ,, ``, This, ...\n",
            "8    [We, 're, talking, about, years, ago, before, ...\n",
            "9    [There, is, no, asbestos, in, our, products, n...\n",
            "Name: sequence, dtype: object\n",
            "\n",
            "[Debug] After:\n",
            "0    [pierre, vinken, ,, 61, years, old, ,, will, j...\n",
            "1    [mr., vinken, is, chairman, of, elsevier, n.v....\n",
            "2    [rudolph, agnew, ,, 55, years, old, and, forme...\n",
            "3    [a, form, of, asbestos, once, used, to, make, ...\n",
            "4    [the, asbestos, fiber, ,, crocidolite, ,, is, ...\n",
            "5    [lorillard, inc., ,, the, unit, of, new, york-...\n",
            "6    [although, preliminary, findings, were, report...\n",
            "7    [a, lorillard, spokewoman, said, ,, ``, this, ...\n",
            "8    [we, 're, talking, about, years, ago, before, ...\n",
            "9    [there, is, no, asbestos, in, our, products, n...\n",
            "Name: sequence, dtype: object\n",
            "\n",
            "Pre-processing completed!\n"
          ]
        }
      ],
      "source": [
        "print('Pre-processing text...')\n",
        "df_old = dataset.copy()\n",
        "print()\n",
        "print(f\"[Debug] Before:\\n{df_old['train'].sequence.iloc[:10]}\")\n",
        "print()\n",
        "\n",
        "# Replace each sentence with its pre-processed version\n",
        "for split in dataset.values():\n",
        "  for (i, seq) in enumerate(split.sequence):\n",
        "    seqs = [text_prepare(txt) for txt in seq]\n",
        "    split.sequence.iloc[i] = seqs\n",
        "\n",
        "print(f\"[Debug] After:\\n{dataset['train'].sequence.iloc[:10]}\")\n",
        "print()\n",
        "\n",
        "print(\"Pre-processing completed!\")"
      ]
    },
    {
      "cell_type": "markdown",
      "metadata": {
        "id": "8MB29F4bufJl"
      },
      "source": [
        "## Load GloVe\n",
        "We define the function used to load the pre-trained embedding model and execute it to load the model into memory."
      ]
    },
    {
      "cell_type": "code",
      "execution_count": null,
      "metadata": {
        "id": "BZkqGHUOJh5i"
      },
      "outputs": [],
      "source": [
        "import gensim\n",
        "import gensim.downloader as gloader\n",
        "\n",
        "def load_embedding_model(model_type: str,\n",
        "                         embedding_dimension: int = 50) -> gensim.models.keyedvectors.KeyedVectors:\n",
        "    \"\"\"\n",
        "    Loads a pre-trained word embedding model via gensim library.\n",
        "\n",
        "    :param model_type: name of the word embedding model to load.\n",
        "    :param embedding_dimension: size of the embedding space to consider\n",
        "\n",
        "    :return\n",
        "        - pre-trained word embedding model (gensim KeyedVectors object)\n",
        "    \"\"\"\n",
        "    download_path = \"\"\n",
        "    if model_type.strip().lower() == 'word2vec':\n",
        "        download_path = \"word2vec-google-news-300\"\n",
        "\n",
        "    elif model_type.strip().lower() == 'glove':\n",
        "        download_path = \"glove-wiki-gigaword-{}\".format(embedding_dimension)\n",
        "    elif model_type.strip().lower() == 'fasttext':\n",
        "        download_path = \"fasttext-wiki-news-subwords-300\"\n",
        "    else:\n",
        "        raise AttributeError(\"Unsupported embedding model type! Available ones: word2vec, glove, fasttext\")\n",
        "\n",
        "    try:\n",
        "        emb_model = gloader.load(download_path)\n",
        "    except ValueError as e:\n",
        "        print(\"Invalid embedding model name! Check the embedding dimension:\")\n",
        "        print(\"Word2Vec: 300\")\n",
        "        print(\"Glove: 50, 100, 200, 300\")\n",
        "        print('FastText: 300')\n",
        "        raise e\n",
        "\n",
        "    return emb_model"
      ]
    },
    {
      "cell_type": "code",
      "execution_count": null,
      "metadata": {
        "id": "rIu2Iy3FJjiL"
      },
      "outputs": [],
      "source": [
        "# PARAMETERS\n",
        "model_type=\"glove\"\n",
        "embedding_dimension=50\n",
        "\n",
        "# Load the embedding model into memory\n",
        "embedding_model = load_embedding_model(model_type=model_type,\n",
        "                                       embedding_dimension=embedding_dimension)"
      ]
    },
    {
      "cell_type": "markdown",
      "metadata": {
        "id": "-Rt2YbqIKU_W"
      },
      "source": [
        "## Build the vocabulary\n",
        "We define the function that builds the vocabulary based on our training set and perform some checking on it. Moreover, we check the OOV terms to see if this could be a problem."
      ]
    },
    {
      "cell_type": "code",
      "execution_count": null,
      "metadata": {
        "id": "rVpEXVz0KRA2"
      },
      "outputs": [],
      "source": [
        "from collections import OrderedDict\n",
        "\n",
        "def build_vocabulary(df: pd.DataFrame, SPECIAL_TOKENS: list) -> (Dict[int, str],\n",
        "                                                                Dict[str, int],\n",
        "                                                                List[str]):\n",
        "    \"\"\"\n",
        "    Given a dataset, builds the corresponding word vocabulary.\n",
        "\n",
        "    :param\n",
        "      - df: dataset from which we want to build the word vocabulary (pandas.DataFrame)\n",
        "      - SPECIAL_TOKENS: list of special tokens to be added to the vocabulary\n",
        "    :return:\n",
        "      - word vocabulary: vocabulary index to word\n",
        "      - inverse word vocabulary: word to vocabulary index\n",
        "      - word listing: set of unique terms that build up the vocabulary\n",
        "    \"\"\"\n",
        "    idx_to_word = OrderedDict()\n",
        "    word_to_idx = OrderedDict()\n",
        "\n",
        "    curr_idx = 0\n",
        "\n",
        "    # Add special tokens to the vocabulary\n",
        "    for token in SPECIAL_TOKENS:\n",
        "      word_to_idx[token] = curr_idx\n",
        "      idx_to_word[curr_idx] = token\n",
        "      curr_idx += 1\n",
        "\n",
        "    # Add the rest of the tokens to the vocabulary\n",
        "    for sentence in tqdm(df.sequence.values):\n",
        "        for token in sentence:\n",
        "            if token not in word_to_idx:\n",
        "                word_to_idx[token] = curr_idx\n",
        "                idx_to_word[curr_idx] = token\n",
        "                curr_idx += 1\n",
        "\n",
        "    word_listing = list(idx_to_word.values())\n",
        "    return idx_to_word, word_to_idx, word_listing"
      ]
    },
    {
      "cell_type": "code",
      "execution_count": null,
      "metadata": {
        "colab": {
          "base_uri": "https://localhost:8080/"
        },
        "id": "CDQ93whLKYwp",
        "outputId": "f94f75cf-b108-4869-efd4-512871089844"
      },
      "outputs": [
        {
          "name": "stderr",
          "output_type": "stream",
          "text": [
            "100%|██████████| 1963/1963 [00:00<00:00, 64891.38it/s]"
          ]
        },
        {
          "name": "stdout",
          "output_type": "stream",
          "text": [
            "\n",
            "[Debug] Index -> Word vocabulary size: 7406\n",
            "[Debug] Word -> Index vocabulary size: 7406\n",
            "[Debug] Some words: [('<PAD>', 0), ('<UNK>', 1), ('pierre', 2), ('vinken', 3), (',', 4), ('61', 5), ('years', 6), ('old', 7), ('will', 8), ('join', 9)]\n"
          ]
        },
        {
          "name": "stderr",
          "output_type": "stream",
          "text": [
            "\n"
          ]
        }
      ],
      "source": [
        "SPECIAL_TOKENS = ['<PAD>', '<UNK>']\n",
        "\n",
        "# BUILD THE VOCABULARY\n",
        "idx_to_word, word_to_idx, word_listing = build_vocabulary(dataset['train'], SPECIAL_TOKENS)\n",
        "print()\n",
        "print(f'[Debug] Index -> Word vocabulary size: {len(idx_to_word)}')\n",
        "print(f'[Debug] Word -> Index vocabulary size: {len(word_to_idx)}')\n",
        "print(f'[Debug] Some words: {[(idx_to_word[idx], idx) for idx in np.arange(10)]}')"
      ]
    },
    {
      "cell_type": "code",
      "execution_count": null,
      "metadata": {
        "id": "s784SBevJ1Me"
      },
      "outputs": [],
      "source": [
        "def check_OOV_terms(embedding_model: gensim.models.keyedvectors.KeyedVectors,\n",
        "                    word_listing: List[str]):\n",
        "    \"\"\"\n",
        "    Checks differences between pre-trained embedding model vocabulary\n",
        "    and dataset specific vocabulary in order to highlight out-of-vocabulary terms.\n",
        "\n",
        "    :param embedding_model: pre-trained word embedding model (gensim wrapper)\n",
        "    :param word_listing: dataset specific vocabulary (list)\n",
        "\n",
        "    :return\n",
        "        - list of OOV terms\n",
        "    \"\"\"\n",
        "    embedding_vocabulary = set(embedding_model.key_to_index.keys())\n",
        "    oov = set(word_listing).difference(embedding_vocabulary)\n",
        "    return list(oov)"
      ]
    },
    {
      "cell_type": "code",
      "execution_count": null,
      "metadata": {
        "colab": {
          "base_uri": "https://localhost:8080/"
        },
        "id": "ZaGbfbp8J4DD",
        "outputId": "f7b53d04-0ae3-4702-a429-b72a53a7d402"
      },
      "outputs": [
        {
          "name": "stdout",
          "output_type": "stream",
          "text": [
            "Total OOV terms: 361 (4.87%)\n",
            "['light-truck', 'eight-count', 'junk-bond', 'small-company', 'subindustry', '100,980', '2,303,328', 'wheeland', '446.62', 'automotive-parts', 'pathlogy', '127.03', '2645.90', '1\\\\/4', 'nekoosa', 'moleculon', 'derel', 'higher-salaried', 'c.j.b.', 'pro-forma', 'built-from-kit', '1.457', 'sub-segments', 'equal-opportunity', 'one-yen', 'sticker-shock', 'trading-company', 'old-house', 'program-trading', 'malizia', 'nissho-iwai', 'amphobiles', 'nesb', 'sport-utility', 'machine-gun-toting', 'flightiness', 'autions', 'post-hearing', 'anti-abortionists', 'mouth-up', 'more-efficient', 'intellectual-property', 'chong-sik', 'summer\\\\/winter', 'beer-belly', 'iran\\\\/contra', 'page-one', 'bermuda-based', 'sometimes-tawdry', 'yen-support', 'training-wage', 'test-preparation', 'northy', 'six-bottle', 'trettien', 'durable-goods', 'pianist-comedian', 'ariail', '143.80', 'thin-lipped', 'cash-rich', 'glenham', 'c-90', 'language-housekeeper', 'marketing-communications', 'buttoned-down', 'change-ringing', 'hummerstone', 'jalaalwalikraam', 'big-ticket', 'makato', '70-a-share', 'custom-chip', 'subskill', 'sometimes-exhausting', 'car-safety', 'rope-sight', 'side-crash', 'life-insurance', 'kalipharma', '3.253', 'superpremiums', 'detective-story', 'achievement-test', 'nih-appointed', 'abortion-related', 'trockenbeerenauslesen', '415.8', 'samnick', 'when-issued', 'romanee-conti', 'one-country', 'safe-deposit', 'money-market', 'pattenden', '16,072', 'sacramento-based', '30,841', 'integra-a', 'boorse', 'prize-fighter', 'senate-house', 'pennview', 'muscolina', 'index-arbitrage', 'tissue-transplant', 'low-ability', '69-point', 'ntg', 'times-stock', 'bridgestone\\\\/firestone', '5\\\\/8', '4.898', '38.375', '234.4', '-lrb-', '37-a-share', '236.74', 'three-lawyer', 'synergistics', 'norwick', 'rexinger', 'twindam', 'we-japanese', '374.20', 'nearly-30', '1\\\\/2', 'forest-products', 'top-yielding', 'three-sevenths', 'yeargin', 'low-ball', '1.8415', '-lcb-', 'micronite', 'video-viewing', 'vitulli', 'tarwhine', 'lap-shoulder', '84-month', 'pramual', 'stock-index', 'jerritts', '3\\\\/4', 'ensrud', '705.6', '14,821', 'recession-inspired', 'futures-related', 'akerfeldt', 'sell-offs', 'bald-faced', '278.7', '236.79', 'anti-china', 'auto-safety', 'cray-3', 'unfair-trade', '90-cent-an-hour', 'roof-crush', 'pre-1917', '449.04', 're-thought', '1\\\\/10th', 'market-share', '520-lawyer', 'non-encapsulating', 'sub-markets', 'twin-jet', 'sanderoff', 'mortgage-based', 'hallwood', 'index-related', 'univest', '374.19', 'crocidolite', 'computer-system-design', 'telephone-information', 'landonne', '143.93', 'bumkins', 'foreign-led', 'rapanelli', 'dead-eyed', 'macmillan\\\\/mcgraw', 'cotran', '82,389', '3057', 'coche-dury', '1.5755', 'computer-driven', 'mininum-wage', 'less-serious', 'biondi-santi', '62%-owned', 'lafite-rothschild', 'tiphook', \"creator's\", 'ghkm', '9,118', '436.01', 'weisfield', 'circuit-breaker', 'replacement-car', '<UNK>', 'lower-priority', 'macheski', 'purhasing', 'merger-related', 'retin-a', 'government-certified', 'solaia', 'ingersoll-rand', '11,762', 'anti-takeover', 'wfrr', 'chilver', 'secilia', 'wheel-loader', '13,056', 'red-blooded', 'besuboru', 'test-prep', 'non-biodegradable', '737.5', 'yen-denominated', 'vinken', '95,142', 'year-earlier', 'search-and-seizure', 'money-center', 'delwin', 'aslacton', '271,124', 'stirlen', 'direct-investment', 'school-improvement', 'rate-sensitive', 'teacher-cadet', 'new-home', 'food-shop', 'bell-ringer', '16.125', '-rcb-', 'shirt-sleeved', 'macmillan\\\\/mcgraw-hill', 'erbamont', 'industrial-production', 'high-balance', 'security-type', '415.6', 'high-rate', 'purepac', '143.08', 'ctbs', 'chemplus', 'ac-130u', 'subskills', 'school-research', '500,004', 'mehrens', 'war-rationed', 'unenticing', '<PAD>', '456.64', 'meinders', 'state-supervised', 'preparatives', 'gingl', 'year-ago', 'money-fund', '7\\\\/8', 'identity-management', 'pre-1933', 'sharedata', 'savings-and-loan', 'savers\\\\/investors', 'sino-u.s.', 'water-authority', 'church-goers', '230-215', 'co-developers', 'antitrust-law', 'product-design', 'automotive-lighting', 'home-market', 'subminimum', 'satrum', 'wtd', '361,376', 'ratners', 'morale-damaging', 'polyproplene', 'electric-utility', 'sogo-shosha', 'test-practice', 'chinchon', '352.7', '18,444', 'investor-relations', 'fetal-tissue', 'lezovich', 'uzi-model', 'monchecourt', 'dust-up', 'forest-product', 'index-options', 'nipponese', 'dollar-yen', 'social-studies', 'greenmailer', 'limited-partnership', 'school-district', 'colonsville', '5.276', '12,252', 'ft-se', 'six-packs', 'building-products', 'student-test', 'veselich', 'asset-sale', 'securities-based', 'one-upsmanship', 'incentive-bonus', '-rrb-', '8300s', 'energy-services', '3,288,453', 'college-bowl', 'nagymaros', 'alurralde', '497.34', 'odd-sounding', 'cop-killer', 'deposits-a', '4,393,237', 'chafic', 'front-seat', '142.85', 'bellringers', 'red-flag', 'foreign-stock', 'drag-down', 'capital-gains', 'revenue-desperate', 'test-coaching', 'two-sevenths', 'drobnick', 'highest-pitched', 'corton-charlemagne', 'wine-buying', 'collective-bargaining', 'centerbank', 'family-planning', '382-37', 'stock-manipulation', 'floating-rate', 'rubinfien', '62.625', 'school-board']\n"
          ]
        }
      ],
      "source": [
        "# CHECKING ON THE OOV TERMS\n",
        "oov_terms = check_OOV_terms(embedding_model, word_listing)\n",
        "oov_percentage = float(len(oov_terms)) * 100 / len(word_listing)\n",
        "print(f\"Total OOV terms: {len(oov_terms)} ({oov_percentage:.2f}%)\")\n",
        "print(oov_terms)"
      ]
    },
    {
      "cell_type": "markdown",
      "metadata": {
        "id": "WPgxoda2vPfl"
      },
      "source": [
        "## Build the embedding matrix\n",
        "We define the function used to build the embedding matrix based on our pre-trained embedding model and our vocabulary."
      ]
    },
    {
      "cell_type": "code",
      "execution_count": null,
      "metadata": {
        "id": "RLil9vFOuhvt"
      },
      "outputs": [],
      "source": [
        "def build_embedding_matrix(embedding_model: gensim.models.keyedvectors.KeyedVectors,\n",
        "                           embedding_dimension: int,\n",
        "                           word_to_idx: Dict[str, int],\n",
        "                           vocab_size: int,\n",
        "                           oov_terms: List[str]) -> np.ndarray:\n",
        "    \"\"\"\n",
        "    Builds the embedding matrix of a specific dataset given a pre-trained word embedding model\n",
        "\n",
        "    :param embedding_model: pre-trained word embedding model (gensim wrapper)\n",
        "    :param word_to_idx: vocabulary map (word -> index) (dict)\n",
        "    :param vocab_size: size of the vocabulary\n",
        "    :param oov_terms: list of OOV terms (list)\n",
        "\n",
        "    :return\n",
        "        - embedding matrix that assigns a high dimensional vector to each word in the dataset specific vocabulary (shape |V| x d)\n",
        "    \"\"\"\n",
        "    embedding_matrix = np.zeros((vocab_size, embedding_dimension), dtype=np.float32)\n",
        "    for word, idx in tqdm(word_to_idx.items()):\n",
        "        try:\n",
        "            # Look for the embedding vector of the word in GloVe\n",
        "            embedding_vector = embedding_model[word]\n",
        "        except (KeyError, TypeError):\n",
        "            # If the word is OOV then assign a random uniform vector of the same dimension\n",
        "            embedding_vector = np.random.uniform(low=-0.05, high=0.05, size=embedding_dimension)\n",
        "\n",
        "        embedding_matrix[idx] = embedding_vector\n",
        "\n",
        "    return embedding_matrix"
      ]
    },
    {
      "cell_type": "code",
      "execution_count": null,
      "metadata": {
        "colab": {
          "base_uri": "https://localhost:8080/"
        },
        "id": "LnyO7cBb-bgr",
        "outputId": "245ac833-fe05-44cf-c614-d3d6d2ef0225"
      },
      "outputs": [
        {
          "name": "stderr",
          "output_type": "stream",
          "text": [
            "100%|██████████| 7406/7406 [00:00<00:00, 174383.96it/s]"
          ]
        },
        {
          "name": "stdout",
          "output_type": "stream",
          "text": [
            "\n",
            "Embedding matrix shape: (7406, 50)\n"
          ]
        },
        {
          "name": "stderr",
          "output_type": "stream",
          "text": [
            "\n"
          ]
        }
      ],
      "source": [
        "# Testing\n",
        "embedding_dimension = 50\n",
        "embedding_matrix = build_embedding_matrix(embedding_model, embedding_dimension, word_to_idx, len(word_to_idx), oov_terms)\n",
        "print()\n",
        "print(f\"Embedding matrix shape: {embedding_matrix.shape}\")"
      ]
    },
    {
      "cell_type": "markdown",
      "metadata": {
        "id": "KHxU0ORRNOUj"
      },
      "source": [
        "## Vectorization of the data"
      ]
    },
    {
      "cell_type": "code",
      "execution_count": null,
      "metadata": {
        "colab": {
          "base_uri": "https://localhost:8080/"
        },
        "id": "VeAtgpRCTLYJ",
        "outputId": "daf0f0e2-c1f0-43d2-9152-ae9d4caa1432"
      },
      "outputs": [
        {
          "name": "stdout",
          "output_type": "stream",
          "text": [
            "{'PAD': 0, '#': 1, '$': 2, \"''\": 3, ',': 4, '-LRB-': 5, '-RRB-': 6, '.': 7, ':': 8, 'CC': 9, 'CD': 10, 'DT': 11, 'EX': 12, 'FW': 13, 'IN': 14, 'JJ': 15, 'JJR': 16, 'JJS': 17, 'LS': 18, 'MD': 19, 'NN': 20, 'NNP': 21, 'NNPS': 22, 'NNS': 23, 'PDT': 24, 'POS': 25, 'PRP': 26, 'PRP$': 27, 'RB': 28, 'RBR': 29, 'RBS': 30, 'RP': 31, 'SYM': 32, 'TO': 33, 'UH': 34, 'VB': 35, 'VBD': 36, 'VBG': 37, 'VBN': 38, 'VBP': 39, 'VBZ': 40, 'WDT': 41, 'WP': 42, 'WP$': 43, 'WRB': 44, '``': 45}\n"
          ]
        }
      ],
      "source": [
        "# Determine the possible labels\n",
        "POS_TAGS = np.unique(POS_TAGS)\n",
        "\n",
        "# Add padding id to the tags\n",
        "POS_TAGS = np.insert(POS_TAGS, 0, 'PAD')\n",
        "\n",
        "# Assign an id for each label\n",
        "CATEGORIES = {tag: i for (i, tag) in enumerate(POS_TAGS)}\n",
        "print(CATEGORIES)"
      ]
    },
    {
      "cell_type": "code",
      "execution_count": null,
      "metadata": {
        "id": "DgKBPK6RUI3u"
      },
      "outputs": [],
      "source": [
        "def vectorize_df(df: pd.DataFrame) -> pd.DataFrame:\n",
        "  # Create a copy of the dataset\n",
        "  df_copy = df.copy()\n",
        "\n",
        "  for (i, record) in df_copy.iterrows():\n",
        "    # New row data\n",
        "    row = {\n",
        "        'sequence': [word_to_idx[token] if token in word_listing else 1 for token in record['sequence']],\n",
        "        'pos_tags': [CATEGORIES[tag] for tag in record['pos_tags']]\n",
        "    }\n",
        "\n",
        "    # Replace row at index i with the new row data\n",
        "    df_copy.loc[i] = row\n",
        "\n",
        "  return df_copy"
      ]
    },
    {
      "cell_type": "code",
      "execution_count": null,
      "metadata": {
        "colab": {
          "base_uri": "https://localhost:8080/"
        },
        "id": "FzBpAM2WMitM",
        "outputId": "cc0dbe96-a33e-4c5d-dd7a-371863aa72af"
      },
      "outputs": [
        {
          "name": "stdout",
          "output_type": "stream",
          "text": [
            "Pre-processing text...\n",
            "\n",
            "[Debug] Before:\n",
            "                                            sequence  \\\n",
            "0  [a, house-senate, conference, approved, major,...   \n",
            "1  [for, the, agency, for, international, develop...   \n",
            "2  [the, conference, approved, at, least, $, 55, ...   \n",
            "\n",
            "                                            pos_tags  \n",
            "0  [DT, NNP, NN, VBD, JJ, NNS, IN, DT, NN, IN, JJ...  \n",
            "1  [IN, DT, NNP, IN, NNP, NNP, ,, NNS, VBD, $, CD...  \n",
            "2  [DT, NN, VBD, IN, JJS, $, CD, CD, IN, JJ, NN, ...  \n",
            "\n",
            "[Debug] After:\n",
            "                                            sequence  \\\n",
            "0  [13, 1, 2032, 526, 1770, 1, 22, 13, 6099, 177,...   \n",
            "1  [177, 10, 290, 177, 547, 1346, 4, 1, 526, 461,...   \n",
            "2  [10, 2032, 526, 154, 1368, 461, 30, 536, 97, 1...   \n",
            "\n",
            "                                            pos_tags  \n",
            "0  [11, 21, 20, 36, 15, 23, 14, 11, 20, 14, 16, 1...  \n",
            "1  [14, 11, 21, 14, 21, 21, 4, 23, 36, 2, 10, 10,...  \n",
            "2  [11, 20, 36, 14, 17, 2, 10, 10, 14, 15, 20, 9,...  \n",
            "\n",
            "Pre-processing completed!\n"
          ]
        }
      ],
      "source": [
        "print('Pre-processing text...')\n",
        "vect_dataset = {}\n",
        "print()\n",
        "print(f\"[Debug] Before:\\n{df_old['valid'][:3]}\")\n",
        "print()\n",
        "\n",
        "for split in dataset:\n",
        "  vect_dataset[split] = vectorize_df(dataset[split])\n",
        "\n",
        "print(f\"[Debug] After:\\n{vect_dataset['valid'][:3]}\")\n",
        "print()\n",
        "\n",
        "print(\"Pre-processing completed!\")"
      ]
    },
    {
      "cell_type": "code",
      "execution_count": null,
      "metadata": {
        "colab": {
          "base_uri": "https://localhost:8080/",
          "height": 206
        },
        "id": "vdtGuAISP2Hd",
        "outputId": "47d030e3-b4d6-48d1-efc6-e14ae4bd9654"
      },
      "outputs": [
        {
          "data": {
            "text/html": [
              "\n",
              "  <div id=\"df-fffd3d43-0aec-4359-aece-90f6587b9072\" class=\"colab-df-container\">\n",
              "    <div>\n",
              "<style scoped>\n",
              "    .dataframe tbody tr th:only-of-type {\n",
              "        vertical-align: middle;\n",
              "    }\n",
              "\n",
              "    .dataframe tbody tr th {\n",
              "        vertical-align: top;\n",
              "    }\n",
              "\n",
              "    .dataframe thead th {\n",
              "        text-align: right;\n",
              "    }\n",
              "</style>\n",
              "<table border=\"1\" class=\"dataframe\">\n",
              "  <thead>\n",
              "    <tr style=\"text-align: right;\">\n",
              "      <th></th>\n",
              "      <th>sequence</th>\n",
              "      <th>pos_tags</th>\n",
              "    </tr>\n",
              "  </thead>\n",
              "  <tbody>\n",
              "    <tr>\n",
              "      <th>0</th>\n",
              "      <td>[13, 1, 2032, 526, 1770, 1, 22, 13, 6099, 177,...</td>\n",
              "      <td>[11, 21, 20, 36, 15, 23, 14, 11, 20, 14, 16, 1...</td>\n",
              "    </tr>\n",
              "    <tr>\n",
              "      <th>1</th>\n",
              "      <td>[177, 10, 290, 177, 547, 1346, 4, 1, 526, 461,...</td>\n",
              "      <td>[14, 11, 21, 14, 21, 21, 4, 23, 36, 2, 10, 10,...</td>\n",
              "    </tr>\n",
              "    <tr>\n",
              "      <th>2</th>\n",
              "      <td>[10, 2032, 526, 154, 1368, 461, 30, 536, 97, 1...</td>\n",
              "      <td>[11, 20, 36, 14, 17, 2, 10, 10, 14, 15, 20, 9,...</td>\n",
              "    </tr>\n",
              "    <tr>\n",
              "      <th>3</th>\n",
              "      <td>[10, 1627, 146, 2942, 1, 74, 10, 1770, 5925, 2...</td>\n",
              "      <td>[11, 20, 14, 21, 40, 14, 11, 15, 23, 37, 14, 1...</td>\n",
              "    </tr>\n",
              "    <tr>\n",
              "      <th>4</th>\n",
              "      <td>[349, 4535, 2513, 153, 1023, 13, 4868, 97, 1, ...</td>\n",
              "      <td>[11, 15, 23, 39, 28, 11, 20, 14, 37, 11, 21, 2...</td>\n",
              "    </tr>\n",
              "  </tbody>\n",
              "</table>\n",
              "</div>\n",
              "    <div class=\"colab-df-buttons\">\n",
              "\n",
              "  <div class=\"colab-df-container\">\n",
              "    <button class=\"colab-df-convert\" onclick=\"convertToInteractive('df-fffd3d43-0aec-4359-aece-90f6587b9072')\"\n",
              "            title=\"Convert this dataframe to an interactive table.\"\n",
              "            style=\"display:none;\">\n",
              "\n",
              "  <svg xmlns=\"http://www.w3.org/2000/svg\" height=\"24px\" viewBox=\"0 -960 960 960\">\n",
              "    <path d=\"M120-120v-720h720v720H120Zm60-500h600v-160H180v160Zm220 220h160v-160H400v160Zm0 220h160v-160H400v160ZM180-400h160v-160H180v160Zm440 0h160v-160H620v160ZM180-180h160v-160H180v160Zm440 0h160v-160H620v160Z\"/>\n",
              "  </svg>\n",
              "    </button>\n",
              "\n",
              "  <style>\n",
              "    .colab-df-container {\n",
              "      display:flex;\n",
              "      gap: 12px;\n",
              "    }\n",
              "\n",
              "    .colab-df-convert {\n",
              "      background-color: #E8F0FE;\n",
              "      border: none;\n",
              "      border-radius: 50%;\n",
              "      cursor: pointer;\n",
              "      display: none;\n",
              "      fill: #1967D2;\n",
              "      height: 32px;\n",
              "      padding: 0 0 0 0;\n",
              "      width: 32px;\n",
              "    }\n",
              "\n",
              "    .colab-df-convert:hover {\n",
              "      background-color: #E2EBFA;\n",
              "      box-shadow: 0px 1px 2px rgba(60, 64, 67, 0.3), 0px 1px 3px 1px rgba(60, 64, 67, 0.15);\n",
              "      fill: #174EA6;\n",
              "    }\n",
              "\n",
              "    .colab-df-buttons div {\n",
              "      margin-bottom: 4px;\n",
              "    }\n",
              "\n",
              "    [theme=dark] .colab-df-convert {\n",
              "      background-color: #3B4455;\n",
              "      fill: #D2E3FC;\n",
              "    }\n",
              "\n",
              "    [theme=dark] .colab-df-convert:hover {\n",
              "      background-color: #434B5C;\n",
              "      box-shadow: 0px 1px 3px 1px rgba(0, 0, 0, 0.15);\n",
              "      filter: drop-shadow(0px 1px 2px rgba(0, 0, 0, 0.3));\n",
              "      fill: #FFFFFF;\n",
              "    }\n",
              "  </style>\n",
              "\n",
              "    <script>\n",
              "      const buttonEl =\n",
              "        document.querySelector('#df-fffd3d43-0aec-4359-aece-90f6587b9072 button.colab-df-convert');\n",
              "      buttonEl.style.display =\n",
              "        google.colab.kernel.accessAllowed ? 'block' : 'none';\n",
              "\n",
              "      async function convertToInteractive(key) {\n",
              "        const element = document.querySelector('#df-fffd3d43-0aec-4359-aece-90f6587b9072');\n",
              "        const dataTable =\n",
              "          await google.colab.kernel.invokeFunction('convertToInteractive',\n",
              "                                                    [key], {});\n",
              "        if (!dataTable) return;\n",
              "\n",
              "        const docLinkHtml = 'Like what you see? Visit the ' +\n",
              "          '<a target=\"_blank\" href=https://colab.research.google.com/notebooks/data_table.ipynb>data table notebook</a>'\n",
              "          + ' to learn more about interactive tables.';\n",
              "        element.innerHTML = '';\n",
              "        dataTable['output_type'] = 'display_data';\n",
              "        await google.colab.output.renderOutput(dataTable, element);\n",
              "        const docLink = document.createElement('div');\n",
              "        docLink.innerHTML = docLinkHtml;\n",
              "        element.appendChild(docLink);\n",
              "      }\n",
              "    </script>\n",
              "  </div>\n",
              "\n",
              "\n",
              "<div id=\"df-0fc7e162-020a-4cfb-a88b-143c6bcdb186\">\n",
              "  <button class=\"colab-df-quickchart\" onclick=\"quickchart('df-0fc7e162-020a-4cfb-a88b-143c6bcdb186')\"\n",
              "            title=\"Suggest charts\"\n",
              "            style=\"display:none;\">\n",
              "\n",
              "<svg xmlns=\"http://www.w3.org/2000/svg\" height=\"24px\"viewBox=\"0 0 24 24\"\n",
              "     width=\"24px\">\n",
              "    <g>\n",
              "        <path d=\"M19 3H5c-1.1 0-2 .9-2 2v14c0 1.1.9 2 2 2h14c1.1 0 2-.9 2-2V5c0-1.1-.9-2-2-2zM9 17H7v-7h2v7zm4 0h-2V7h2v10zm4 0h-2v-4h2v4z\"/>\n",
              "    </g>\n",
              "</svg>\n",
              "  </button>\n",
              "\n",
              "<style>\n",
              "  .colab-df-quickchart {\n",
              "      --bg-color: #E8F0FE;\n",
              "      --fill-color: #1967D2;\n",
              "      --hover-bg-color: #E2EBFA;\n",
              "      --hover-fill-color: #174EA6;\n",
              "      --disabled-fill-color: #AAA;\n",
              "      --disabled-bg-color: #DDD;\n",
              "  }\n",
              "\n",
              "  [theme=dark] .colab-df-quickchart {\n",
              "      --bg-color: #3B4455;\n",
              "      --fill-color: #D2E3FC;\n",
              "      --hover-bg-color: #434B5C;\n",
              "      --hover-fill-color: #FFFFFF;\n",
              "      --disabled-bg-color: #3B4455;\n",
              "      --disabled-fill-color: #666;\n",
              "  }\n",
              "\n",
              "  .colab-df-quickchart {\n",
              "    background-color: var(--bg-color);\n",
              "    border: none;\n",
              "    border-radius: 50%;\n",
              "    cursor: pointer;\n",
              "    display: none;\n",
              "    fill: var(--fill-color);\n",
              "    height: 32px;\n",
              "    padding: 0;\n",
              "    width: 32px;\n",
              "  }\n",
              "\n",
              "  .colab-df-quickchart:hover {\n",
              "    background-color: var(--hover-bg-color);\n",
              "    box-shadow: 0 1px 2px rgba(60, 64, 67, 0.3), 0 1px 3px 1px rgba(60, 64, 67, 0.15);\n",
              "    fill: var(--button-hover-fill-color);\n",
              "  }\n",
              "\n",
              "  .colab-df-quickchart-complete:disabled,\n",
              "  .colab-df-quickchart-complete:disabled:hover {\n",
              "    background-color: var(--disabled-bg-color);\n",
              "    fill: var(--disabled-fill-color);\n",
              "    box-shadow: none;\n",
              "  }\n",
              "\n",
              "  .colab-df-spinner {\n",
              "    border: 2px solid var(--fill-color);\n",
              "    border-color: transparent;\n",
              "    border-bottom-color: var(--fill-color);\n",
              "    animation:\n",
              "      spin 1s steps(1) infinite;\n",
              "  }\n",
              "\n",
              "  @keyframes spin {\n",
              "    0% {\n",
              "      border-color: transparent;\n",
              "      border-bottom-color: var(--fill-color);\n",
              "      border-left-color: var(--fill-color);\n",
              "    }\n",
              "    20% {\n",
              "      border-color: transparent;\n",
              "      border-left-color: var(--fill-color);\n",
              "      border-top-color: var(--fill-color);\n",
              "    }\n",
              "    30% {\n",
              "      border-color: transparent;\n",
              "      border-left-color: var(--fill-color);\n",
              "      border-top-color: var(--fill-color);\n",
              "      border-right-color: var(--fill-color);\n",
              "    }\n",
              "    40% {\n",
              "      border-color: transparent;\n",
              "      border-right-color: var(--fill-color);\n",
              "      border-top-color: var(--fill-color);\n",
              "    }\n",
              "    60% {\n",
              "      border-color: transparent;\n",
              "      border-right-color: var(--fill-color);\n",
              "    }\n",
              "    80% {\n",
              "      border-color: transparent;\n",
              "      border-right-color: var(--fill-color);\n",
              "      border-bottom-color: var(--fill-color);\n",
              "    }\n",
              "    90% {\n",
              "      border-color: transparent;\n",
              "      border-bottom-color: var(--fill-color);\n",
              "    }\n",
              "  }\n",
              "</style>\n",
              "\n",
              "  <script>\n",
              "    async function quickchart(key) {\n",
              "      const quickchartButtonEl =\n",
              "        document.querySelector('#' + key + ' button');\n",
              "      quickchartButtonEl.disabled = true;  // To prevent multiple clicks.\n",
              "      quickchartButtonEl.classList.add('colab-df-spinner');\n",
              "      try {\n",
              "        const charts = await google.colab.kernel.invokeFunction(\n",
              "            'suggestCharts', [key], {});\n",
              "      } catch (error) {\n",
              "        console.error('Error during call to suggestCharts:', error);\n",
              "      }\n",
              "      quickchartButtonEl.classList.remove('colab-df-spinner');\n",
              "      quickchartButtonEl.classList.add('colab-df-quickchart-complete');\n",
              "    }\n",
              "    (() => {\n",
              "      let quickchartButtonEl =\n",
              "        document.querySelector('#df-0fc7e162-020a-4cfb-a88b-143c6bcdb186 button');\n",
              "      quickchartButtonEl.style.display =\n",
              "        google.colab.kernel.accessAllowed ? 'block' : 'none';\n",
              "    })();\n",
              "  </script>\n",
              "</div>\n",
              "    </div>\n",
              "  </div>\n"
            ],
            "text/plain": [
              "                                            sequence  \\\n",
              "0  [13, 1, 2032, 526, 1770, 1, 22, 13, 6099, 177,...   \n",
              "1  [177, 10, 290, 177, 547, 1346, 4, 1, 526, 461,...   \n",
              "2  [10, 2032, 526, 154, 1368, 461, 30, 536, 97, 1...   \n",
              "3  [10, 1627, 146, 2942, 1, 74, 10, 1770, 5925, 2...   \n",
              "4  [349, 4535, 2513, 153, 1023, 13, 4868, 97, 1, ...   \n",
              "\n",
              "                                            pos_tags  \n",
              "0  [11, 21, 20, 36, 15, 23, 14, 11, 20, 14, 16, 1...  \n",
              "1  [14, 11, 21, 14, 21, 21, 4, 23, 36, 2, 10, 10,...  \n",
              "2  [11, 20, 36, 14, 17, 2, 10, 10, 14, 15, 20, 9,...  \n",
              "3  [11, 20, 14, 21, 40, 14, 11, 15, 23, 37, 14, 1...  \n",
              "4  [11, 15, 23, 39, 28, 11, 20, 14, 37, 11, 21, 2...  "
            ]
          },
          "execution_count": 23,
          "metadata": {},
          "output_type": "execute_result"
        }
      ],
      "source": [
        "vect_dataset['valid'].head()"
      ]
    },
    {
      "cell_type": "markdown",
      "metadata": {
        "id": "LH6yBYHuibq3"
      },
      "source": [
        "## Padding data"
      ]
    },
    {
      "cell_type": "code",
      "execution_count": null,
      "metadata": {
        "colab": {
          "base_uri": "https://localhost:8080/"
        },
        "id": "DZyAU5F9ocpx",
        "outputId": "a689b3fc-39a3-427a-a030-bc412a3afb4f"
      },
      "outputs": [
        {
          "name": "stdout",
          "output_type": "stream",
          "text": [
            "Maximum sequence length in the training set: 249\n"
          ]
        }
      ],
      "source": [
        "MAX_LEN = max([len(row[1]['sequence']) for row in vect_dataset['train'].iterrows()])\n",
        "print(f\"Maximum sequence length in the training set: {MAX_LEN}\")"
      ]
    },
    {
      "cell_type": "code",
      "execution_count": null,
      "metadata": {
        "id": "V9oEQwquij6a"
      },
      "outputs": [],
      "source": [
        "def pad_df(df: pd.DataFrame, pad_len: int) -> pd.DataFrame:\n",
        "  # Create a copy of the dataset\n",
        "  df_copy = df.copy()\n",
        "\n",
        "  # Pad sequences\n",
        "  padded_seqs = pad_sequences(df.sequence, maxlen=pad_len, padding='post', truncating='post')\n",
        "  padded_tags = pad_sequences(df.pos_tags, maxlen=pad_len, padding='post', truncating='post')\n",
        "  df_copy.sequence = list(padded_seqs)\n",
        "  df_copy.pos_tags = list(padded_tags)\n",
        "\n",
        "  return df_copy"
      ]
    },
    {
      "cell_type": "code",
      "execution_count": null,
      "metadata": {
        "colab": {
          "base_uri": "https://localhost:8080/"
        },
        "id": "izPvkVpbVgcs",
        "outputId": "919b9539-0f95-465c-b329-b629ed64c979"
      },
      "outputs": [
        {
          "name": "stdout",
          "output_type": "stream",
          "text": [
            "Pre-processing text...\n",
            "\n",
            "[Debug] Before:\n",
            "[13, 1, 2032, 526, 1770, 1, 22, 13, 6099, 177, 62, 63, 461, 754, 536, 97, 834, 1623, 177, 2942, 80, 1, 486, 146, 461, 1, 536, 97, 945, 31, 4289, 1, 97, 4535, 893, 97, 1122, 22, 1, 820, 828, 31, 2046, 18]\n",
            "\n",
            "[Debug] After:\n",
            "[  13    1 2032  526 1770    1   22   13 6099  177   62   63  461  754\n",
            "  536   97  834 1623  177 2942   80    1  486  146  461    1  536   97\n",
            "  945   31 4289    1   97 4535  893   97 1122   22    1  820  828   31\n",
            " 2046   18    0    0    0    0    0    0    0    0    0    0    0    0\n",
            "    0    0    0    0    0    0    0    0    0    0    0    0    0    0\n",
            "    0    0    0    0    0    0    0    0    0    0    0    0    0    0\n",
            "    0    0    0    0    0    0    0    0    0    0    0    0    0    0\n",
            "    0    0    0    0    0    0    0    0    0    0    0    0    0    0\n",
            "    0    0    0    0    0    0    0    0    0    0    0    0    0    0\n",
            "    0    0    0    0    0    0    0    0    0    0    0    0    0    0\n",
            "    0    0    0    0    0    0    0    0    0    0    0    0    0    0\n",
            "    0    0    0    0    0    0    0    0    0    0    0    0    0    0\n",
            "    0    0    0    0    0    0    0    0    0    0    0    0    0    0\n",
            "    0    0    0    0    0    0    0    0    0    0    0    0    0    0\n",
            "    0    0    0    0    0    0    0    0    0    0    0    0    0    0\n",
            "    0    0    0    0    0    0    0    0    0    0    0    0    0    0\n",
            "    0    0    0    0    0    0    0    0    0    0    0    0    0    0\n",
            "    0    0    0    0    0    0    0    0    0    0    0]\n",
            "\n",
            "Pre-processing completed!\n"
          ]
        }
      ],
      "source": [
        "from keras.preprocessing.sequence import pad_sequences\n",
        "\n",
        "print('Pre-processing text...')\n",
        "padded_dataset = {}\n",
        "print()\n",
        "print(f\"[Debug] Before:\\n{vect_dataset['valid']['sequence'][0]}\")\n",
        "print()\n",
        "\n",
        "for split in dataset:\n",
        "  padded_dataset[split] = pad_df(vect_dataset[split], MAX_LEN)\n",
        "\n",
        "print(f\"[Debug] After:\\n{padded_dataset['valid']['sequence'][0]}\")\n",
        "print()\n",
        "\n",
        "print(\"Pre-processing completed!\")"
      ]
    },
    {
      "cell_type": "markdown",
      "metadata": {
        "id": "9PxeC3f5ojut"
      },
      "source": [
        "## Prepare the date to be fed"
      ]
    },
    {
      "cell_type": "code",
      "execution_count": null,
      "metadata": {
        "id": "cejimY9QrAtF"
      },
      "outputs": [],
      "source": [
        "X_train = np.vstack(padded_dataset['train']['sequence'].to_numpy())\n",
        "y_train = np.vstack(padded_dataset['train']['pos_tags'].to_numpy())\n",
        "\n",
        "X_valid = np.vstack(padded_dataset['valid']['sequence'].to_numpy())\n",
        "y_valid = np.vstack(padded_dataset['valid']['pos_tags'].to_numpy())\n",
        "\n",
        "X_test = np.vstack(padded_dataset['test']['sequence'].to_numpy())\n",
        "y_test = np.vstack(padded_dataset['test']['pos_tags'].to_numpy())"
      ]
    },
    {
      "cell_type": "code",
      "execution_count": null,
      "metadata": {
        "colab": {
          "base_uri": "https://localhost:8080/"
        },
        "id": "NUDxgQA3tKou",
        "outputId": "eb9a0f30-0f87-49f5-e04f-298afabb72a3"
      },
      "outputs": [
        {
          "name": "stdout",
          "output_type": "stream",
          "text": [
            "(1963, 249)\n",
            "(1963, 249)\n",
            "(1299, 249)\n",
            "(1299, 249)\n",
            "(652, 249)\n",
            "(652, 249)\n"
          ]
        }
      ],
      "source": [
        "print(X_train.shape)\n",
        "print(y_train.shape)\n",
        "\n",
        "print(X_valid.shape)\n",
        "print(y_valid.shape)\n",
        "\n",
        "print(X_test.shape)\n",
        "print(y_test.shape)"
      ]
    },
    {
      "cell_type": "markdown",
      "metadata": {
        "id": "VL5GSxWpHeKh"
      },
      "source": [
        "# [Task 3 - 1.0 points] Model definition\n",
        "\n",
        "You are now tasked to define your neural POS tagger."
      ]
    },
    {
      "cell_type": "markdown",
      "metadata": {
        "id": "10wLr-WtHeKh"
      },
      "source": [
        "### Instructions\n",
        "\n",
        "* **Baseline**: implement a Bidirectional LSTM with a Dense layer on top.\n",
        "* You are **free** to experiment with hyper-parameters to define the baseline model.\n",
        "\n",
        "* **Model 1**: add an additional LSTM layer to the Baseline model.\n",
        "* **Model 2**: add an additional Dense layer to the Baseline model.\n",
        "\n",
        "* **Do not mix Model 1 and Model 2**. Each model has its own instructions.\n",
        "\n",
        "**Note**: if a document contains many tokens, you are **free** to split them into chunks or sentences to define your mini-batches."
      ]
    },
    {
      "cell_type": "code",
      "execution_count": null,
      "metadata": {
        "id": "hbJwZJpor3XK"
      },
      "outputs": [],
      "source": [
        "import keras\n",
        "from keras.models import Model, Sequential\n",
        "from keras.layers import Dense, LSTM, Embedding, Bidirectional, Input, TimeDistributed\n",
        "import sklearn\n",
        "\n",
        "def build_rnn(vocab_size, max_len, embedding_dim, num_labels, model_ver=None):\n",
        "  # Build the embedding layer using the pre-trained embedding\n",
        "  embedding_layer = Embedding(\n",
        "    vocab_size,\n",
        "    embedding_dim,\n",
        "    embeddings_initializer=keras.initializers.Constant(embedding_matrix),\n",
        "    input_length=max_len,\n",
        "    trainable=True,\n",
        "    mask_zero=True\n",
        "  )\n",
        "\n",
        "  # Define the model architecture\n",
        "  model = Sequential()\n",
        "  model.add(embedding_layer)\n",
        "  model.add(Bidirectional(LSTM(units=64, return_sequences=True)))\n",
        "\n",
        "  if model_ver == 1:\n",
        "    model.add(LSTM(units=64, return_sequences=True))\n",
        "  elif model_ver == 2:\n",
        "    model.add(TimeDistributed(Dense(len(POS_TAGS))))\n",
        "  else:\n",
        "    pass\n",
        "\n",
        "  model.add(TimeDistributed(Dense(len(POS_TAGS), activation=\"softmax\")))\n",
        "\n",
        "  model.summary()\n",
        "\n",
        "  return model"
      ]
    },
    {
      "cell_type": "code",
      "execution_count": null,
      "metadata": {
        "colab": {
          "base_uri": "https://localhost:8080/"
        },
        "id": "juZRigEqoYg6",
        "outputId": "b29d96e6-1b04-457b-f4a7-064a5a00a6ef"
      },
      "outputs": [
        {
          "name": "stdout",
          "output_type": "stream",
          "text": [
            "Model: \"sequential\"\n",
            "_________________________________________________________________\n",
            " Layer (type)                Output Shape              Param #   \n",
            "=================================================================\n",
            " embedding (Embedding)       (None, 249, 50)           370300    \n",
            "                                                                 \n",
            " bidirectional (Bidirection  (None, 249, 128)          58880     \n",
            " al)                                                             \n",
            "                                                                 \n",
            " time_distributed (TimeDist  (None, 249, 46)           5934      \n",
            " ributed)                                                        \n",
            "                                                                 \n",
            "=================================================================\n",
            "Total params: 435114 (1.66 MB)\n",
            "Trainable params: 435114 (1.66 MB)\n",
            "Non-trainable params: 0 (0.00 Byte)\n",
            "_________________________________________________________________\n"
          ]
        }
      ],
      "source": [
        "model0 = build_rnn(len(word_to_idx),\n",
        "                   MAX_LEN,\n",
        "                   embedding_dimension,\n",
        "                   len(POS_TAGS))\n",
        "\n",
        "model0.compile(optimizer=\"adam\",\n",
        "              loss=\"sparse_categorical_crossentropy\")"
      ]
    },
    {
      "cell_type": "code",
      "execution_count": null,
      "metadata": {
        "colab": {
          "base_uri": "https://localhost:8080/"
        },
        "id": "TGev5yT8q88F",
        "outputId": "28374807-c641-41c0-eec8-2505ba72d582"
      },
      "outputs": [
        {
          "name": "stdout",
          "output_type": "stream",
          "text": [
            "Model: \"sequential_1\"\n",
            "_________________________________________________________________\n",
            " Layer (type)                Output Shape              Param #   \n",
            "=================================================================\n",
            " embedding_1 (Embedding)     (None, 249, 50)           370300    \n",
            "                                                                 \n",
            " bidirectional_1 (Bidirecti  (None, 249, 128)          58880     \n",
            " onal)                                                           \n",
            "                                                                 \n",
            " lstm_2 (LSTM)               (None, 249, 64)           49408     \n",
            "                                                                 \n",
            " time_distributed_1 (TimeDi  (None, 249, 46)           2990      \n",
            " stributed)                                                      \n",
            "                                                                 \n",
            "=================================================================\n",
            "Total params: 481578 (1.84 MB)\n",
            "Trainable params: 481578 (1.84 MB)\n",
            "Non-trainable params: 0 (0.00 Byte)\n",
            "_________________________________________________________________\n"
          ]
        }
      ],
      "source": [
        "model1 = build_rnn(len(word_to_idx),\n",
        "                   MAX_LEN,\n",
        "                   embedding_dimension,\n",
        "                   len(POS_TAGS),\n",
        "                   model_ver=1)\n",
        "\n",
        "model1.compile(optimizer=\"adam\",\n",
        "              loss=\"sparse_categorical_crossentropy\")"
      ]
    },
    {
      "cell_type": "code",
      "execution_count": null,
      "metadata": {
        "colab": {
          "base_uri": "https://localhost:8080/"
        },
        "id": "ZoZMOSSKbxLf",
        "outputId": "771ebb17-9311-4ab4-9506-caedc9846f32"
      },
      "outputs": [
        {
          "name": "stdout",
          "output_type": "stream",
          "text": [
            "Model: \"sequential_2\"\n",
            "_________________________________________________________________\n",
            " Layer (type)                Output Shape              Param #   \n",
            "=================================================================\n",
            " embedding_2 (Embedding)     (None, 249, 50)           370300    \n",
            "                                                                 \n",
            " bidirectional_2 (Bidirecti  (None, 249, 128)          58880     \n",
            " onal)                                                           \n",
            "                                                                 \n",
            " time_distributed_2 (TimeDi  (None, 249, 46)           5934      \n",
            " stributed)                                                      \n",
            "                                                                 \n",
            " time_distributed_3 (TimeDi  (None, 249, 46)           2162      \n",
            " stributed)                                                      \n",
            "                                                                 \n",
            "=================================================================\n",
            "Total params: 437276 (1.67 MB)\n",
            "Trainable params: 437276 (1.67 MB)\n",
            "Non-trainable params: 0 (0.00 Byte)\n",
            "_________________________________________________________________\n"
          ]
        }
      ],
      "source": [
        "model2 = build_rnn(len(word_to_idx),\n",
        "                        MAX_LEN,\n",
        "                        embedding_dimension,\n",
        "                        len(POS_TAGS),\n",
        "                        model_ver=2)\n",
        "\n",
        "model2.compile(optimizer=\"adam\",\n",
        "              loss=\"sparse_categorical_crossentropy\")"
      ]
    },
    {
      "cell_type": "markdown",
      "metadata": {
        "id": "K62Ob9gxHeKh"
      },
      "source": [
        "# [Task 4 - 1.0 points] Metrics\n",
        "\n",
        "Before training the models, you are tasked to define the evaluation metrics for comparison."
      ]
    },
    {
      "cell_type": "markdown",
      "metadata": {
        "id": "7BrKZwUxHeKh"
      },
      "source": [
        "### Instructions\n",
        "\n",
        "* Evaluate your models using macro F1-score, compute over **all** tokens.\n",
        "* **Concatenate** all tokens in a data split to compute the F1-score. (**Hint**: accumulate FP, TP, FN, TN iteratively)\n",
        "* **Do not consider punctuation and symbol classes** $\\rightarrow$ [What is punctuation?](https://en.wikipedia.org/wiki/English_punctuation)"
      ]
    },
    {
      "cell_type": "markdown",
      "metadata": {
        "id": "ZuEcddMnHeKh"
      },
      "source": [
        "**Note**: What about OOV tokens?\n",
        "   * All the tokens in the **training** set that are not in GloVe are **not** considered as OOV\n",
        "   * For the remaining tokens (i.e., OOV in the validation and test sets), you have to assign them a **static** embedding.\n",
        "   * You are **free** to define the static embedding using any strategy (e.g., random, neighbourhood, etc...)"
      ]
    },
    {
      "cell_type": "code",
      "execution_count": null,
      "metadata": {
        "id": "q6IoyjL2cVWH"
      },
      "outputs": [],
      "source": [
        "from sklearn.metrics import f1_score\n",
        "import re\n",
        "\n",
        "def remove_padding(arr):\n",
        "  return arr[arr!=0]\n",
        "\n",
        "def reverse_vectorization_tags(arr):\n",
        "  return np.array([list(CATEGORIES.keys())[token] for token in arr])\n",
        "\n",
        "def remove_punctuation(arr):\n",
        "    pattern = r'[^\\w\\s]'\n",
        "    token_tags = reverse_vectorization_tags(arr)\n",
        "    cleaned_tokens = []\n",
        "    indexes = []\n",
        "    for i in range(arr.shape[0]):\n",
        "      cleaned_token = re.sub(pattern,'', token_tags[i])\n",
        "      if cleaned_token!='':\n",
        "        cleaned_tokens.append(cleaned_token)\n",
        "      else:\n",
        "        indexes.append(i)\n",
        "    return np.array(cleaned_tokens), indexes\n",
        "\n",
        "def compute_f1(y_true, y_pred):\n",
        "  y_pred_class = tf.cast(tf.math.argmax(y_pred, axis=-1),\"int32\")\n",
        "  mask = tf.cast(tf.math.not_equal(y_true, 0), 'int32')\n",
        "  #print(y_pred_class*mask)\n",
        "  #y_pred_unpadded,indexes_pred_unpadded = np.array(remove_punctuation(remove_padding(y_pred_class * mask)))\n",
        "  y_true_unpadded,removed_indexes= remove_punctuation(remove_padding(tf.cast(y_true,'int32') * mask))\n",
        "  #Remove indexes punctuations tokens in y_pred\n",
        "  y_pred_unpadded = reverse_vectorization_tags(remove_padding(y_pred_class * mask).numpy())\n",
        "  y_pred_unpadded= np.delete(y_pred_unpadded,removed_indexes)\n",
        "  f1 = f1_score(y_true_unpadded,y_pred_unpadded,average='macro')\n",
        "  return f1\n",
        "\n",
        "def f1(y_true,y_pred):\n",
        "    scores = [compute_f1(y_true[i], y_pred[i]) for i in range(y_true.shape[0])]\n",
        "    return np.mean(scores)\n",
        "\n",
        "def print_metric(model, features, labels):\n",
        "  predictions = model.predict(features)\n",
        "  av_score = f1(labels, predictions)\n",
        "  print(f\"F1 on passed set : {av_score}\")"
      ]
    },
    {
      "cell_type": "markdown",
      "metadata": {
        "id": "Sb2SpVbDHeKi"
      },
      "source": [
        "# [Task 5 - 1.0 points] Training and Evaluation\n",
        "\n",
        "You are now tasked to train and evaluate the Baseline, Model 1, and Model 2."
      ]
    },
    {
      "cell_type": "markdown",
      "metadata": {
        "id": "jtvcTJxqHeKi"
      },
      "source": [
        "### Instructions\n",
        "\n",
        "* Train **all** models on the train set.\n",
        "* Evaluate **all** models on the validation set.\n",
        "* Compute metrics on the validation set.\n",
        "* Pick **at least** three seeds for robust estimation.\n",
        "* Pick the **best** performing model according to the observed validation set performance."
      ]
    },
    {
      "cell_type": "code",
      "execution_count": null,
      "metadata": {
        "colab": {
          "base_uri": "https://localhost:8080/"
        },
        "id": "4CdNI_kboHgl",
        "outputId": "485bbed6-ce8d-4d66-ef34-434978844d25"
      },
      "outputs": [
        {
          "name": "stdout",
          "output_type": "stream",
          "text": [
            "Epoch 1/10\n",
            "62/62 [==============================] - 41s 517ms/step - loss: 2.8718 - val_loss: 2.3233\n",
            "Epoch 2/10\n",
            "62/62 [==============================] - 29s 462ms/step - loss: 1.7604 - val_loss: 1.3971\n",
            "Epoch 3/10\n",
            "62/62 [==============================] - 29s 474ms/step - loss: 1.0327 - val_loss: 0.9509\n",
            "Epoch 4/10\n",
            "62/62 [==============================] - 28s 461ms/step - loss: 0.6910 - val_loss: 0.7338\n",
            "Epoch 5/10\n",
            "62/62 [==============================] - 30s 494ms/step - loss: 0.5089 - val_loss: 0.6173\n",
            "Epoch 6/10\n",
            "62/62 [==============================] - 30s 486ms/step - loss: 0.4002 - val_loss: 0.5485\n",
            "Epoch 7/10\n",
            "62/62 [==============================] - 29s 462ms/step - loss: 0.3262 - val_loss: 0.5037\n",
            "Epoch 8/10\n",
            "62/62 [==============================] - 30s 493ms/step - loss: 0.2722 - val_loss: 0.4723\n",
            "Epoch 9/10\n",
            "62/62 [==============================] - 29s 464ms/step - loss: 0.2324 - val_loss: 0.4455\n",
            "Epoch 10/10\n",
            "62/62 [==============================] - 29s 465ms/step - loss: 0.1988 - val_loss: 0.4346\n"
          ]
        }
      ],
      "source": [
        "hist = model0.fit(X_train, y_train, batch_size=32, epochs=10, validation_data=(X_valid, y_valid))"
      ]
    },
    {
      "cell_type": "code",
      "execution_count": null,
      "metadata": {
        "colab": {
          "base_uri": "https://localhost:8080/",
          "height": 604
        },
        "id": "IjO7qVzTQyEG",
        "outputId": "13b17cbd-1004-49d1-9482-32ade03b1134"
      },
      "outputs": [
        {
          "data": {
            "image/png": "[encoded data removed]",
            "text/plain": [
              "<Figure size 1500x700 with 1 Axes>"
            ]
          },
          "metadata": {},
          "output_type": "display_data"
        }
      ],
      "source": [
        "n_epocs = 10\n",
        "x = np.arange(1, n_epocs+1)\n",
        "\n",
        "plt.figure(figsize=(15,7))\n",
        "\n",
        "plt.plot(x, hist.history['loss'])\n",
        "plt.plot(x, hist.history['val_loss'])\n",
        "plt.legend(['loss', 'val_loss'])\n",
        "\n",
        "plt.show()"
      ]
    },
    {
      "cell_type": "code",
      "execution_count": null,
      "metadata": {
        "colab": {
          "base_uri": "https://localhost:8080/"
        },
        "id": "Ry-obWW-oHQO",
        "outputId": "80237f22-40c6-4b7e-c753-370ce11648f5"
      },
      "outputs": [
        {
          "name": "stdout",
          "output_type": "stream",
          "text": [
            "Epoch 1/10\n",
            "62/62 [==============================] - 62s 780ms/step - loss: 3.0133 - val_loss: 2.6539\n",
            "Epoch 2/10\n",
            "62/62 [==============================] - 44s 718ms/step - loss: 2.2304 - val_loss: 1.8686\n",
            "Epoch 3/10\n",
            "62/62 [==============================] - 44s 715ms/step - loss: 1.4800 - val_loss: 1.3135\n",
            "Epoch 4/10\n",
            "62/62 [==============================] - 44s 716ms/step - loss: 1.0115 - val_loss: 0.9776\n",
            "Epoch 5/10\n",
            "62/62 [==============================] - 48s 780ms/step - loss: 0.7221 - val_loss: 0.7792\n",
            "Epoch 6/10\n",
            "62/62 [==============================] - 45s 722ms/step - loss: 0.5435 - val_loss: 0.6625\n",
            "Epoch 7/10\n",
            "62/62 [==============================] - 44s 720ms/step - loss: 0.4253 - val_loss: 0.5886\n",
            "Epoch 8/10\n",
            "62/62 [==============================] - 44s 719ms/step - loss: 0.3441 - val_loss: 0.5499\n",
            "Epoch 9/10\n",
            "62/62 [==============================] - 44s 716ms/step - loss: 0.2856 - val_loss: 0.5081\n",
            "Epoch 10/10\n",
            "62/62 [==============================] - 44s 719ms/step - loss: 0.2405 - val_loss: 0.4947\n"
          ]
        }
      ],
      "source": [
        "hist = model1.fit(X_train, y_train, batch_size=32, epochs=10, validation_data=(X_valid, y_valid))"
      ]
    },
    {
      "cell_type": "code",
      "execution_count": null,
      "metadata": {
        "colab": {
          "base_uri": "https://localhost:8080/",
          "height": 599
        },
        "id": "l7GI4hSVQ4Vy",
        "outputId": "209404c1-ea86-4cf9-995b-bdee7b6230c6"
      },
      "outputs": [
        {
          "data": {
            "image/png": "[encoded data removed]",
            "text/plain": [
              "<Figure size 1500x700 with 1 Axes>"
            ]
          },
          "metadata": {},
          "output_type": "display_data"
        }
      ],
      "source": [
        "n_epocs = 10\n",
        "x = np.arange(1, n_epocs+1)\n",
        "\n",
        "plt.figure(figsize=(15,7))\n",
        "\n",
        "plt.plot(x, hist.history['loss'])\n",
        "plt.plot(x, hist.history['val_loss'])\n",
        "plt.legend(['loss', 'val_loss'])\n",
        "\n",
        "plt.show()"
      ]
    },
    {
      "cell_type": "code",
      "execution_count": null,
      "metadata": {
        "colab": {
          "base_uri": "https://localhost:8080/"
        },
        "id": "cPpw8TdcoPK_",
        "outputId": "bcb8329c-a6a9-4728-b69d-b5b96fa143bf"
      },
      "outputs": [
        {
          "name": "stdout",
          "output_type": "stream",
          "text": [
            "Epoch 1/10\n",
            "62/62 [==============================] - 43s 512ms/step - loss: 2.8272 - val_loss: 2.1613\n",
            "Epoch 2/10\n",
            "62/62 [==============================] - 29s 470ms/step - loss: 1.5121 - val_loss: 1.1774\n",
            "Epoch 3/10\n",
            "62/62 [==============================] - 29s 470ms/step - loss: 0.8301 - val_loss: 0.8298\n",
            "Epoch 4/10\n",
            "62/62 [==============================] - 29s 467ms/step - loss: 0.5561 - val_loss: 0.6594\n",
            "Epoch 5/10\n",
            "62/62 [==============================] - 29s 468ms/step - loss: 0.4136 - val_loss: 0.5818\n",
            "Epoch 6/10\n",
            "62/62 [==============================] - 29s 466ms/step - loss: 0.3271 - val_loss: 0.5243\n",
            "Epoch 7/10\n",
            "62/62 [==============================] - 28s 456ms/step - loss: 0.2644 - val_loss: 0.4845\n",
            "Epoch 8/10\n",
            "62/62 [==============================] - 28s 449ms/step - loss: 0.2178 - val_loss: 0.4756\n",
            "Epoch 9/10\n",
            "62/62 [==============================] - 28s 454ms/step - loss: 0.1818 - val_loss: 0.4516\n",
            "Epoch 10/10\n",
            "62/62 [==============================] - 29s 469ms/step - loss: 0.1525 - val_loss: 0.4563\n"
          ]
        }
      ],
      "source": [
        "hist = model2.fit(X_train, y_train, batch_size=32, epochs=10, validation_data=(X_valid, y_valid))"
      ]
    },
    {
      "cell_type": "code",
      "execution_count": null,
      "metadata": {
        "colab": {
          "base_uri": "https://localhost:8080/",
          "height": 599
        },
        "id": "y_pzf3h1Q5kd",
        "outputId": "3a1f63f8-cb0e-4718-dbe4-5c332c5aa7d1"
      },
      "outputs": [
        {
          "data": {
            "image/png": "[encoded data removed]",
            "text/plain": [
              "<Figure size 1500x700 with 1 Axes>"
            ]
          },
          "metadata": {},
          "output_type": "display_data"
        }
      ],
      "source": [
        "n_epocs = 10\n",
        "x = np.arange(1, n_epocs+1)\n",
        "\n",
        "plt.figure(figsize=(15,7))\n",
        "\n",
        "plt.plot(x, hist.history['loss'])\n",
        "plt.plot(x, hist.history['val_loss'])\n",
        "plt.legend(['loss', 'val_loss'])\n",
        "\n",
        "plt.show()"
      ]
    },
    {
      "cell_type": "code",
      "execution_count": null,
      "metadata": {
        "colab": {
          "base_uri": "https://localhost:8080/"
        },
        "id": "7tV9TpIqoy9C",
        "outputId": "7dc91649-c815-4198-e9b3-2a2c02604ab7"
      },
      "outputs": [
        {
          "name": "stdout",
          "output_type": "stream",
          "text": [
            "Model Baseline\n",
            "41/41 [==============================] - 8s 98ms/step\n",
            "F1 on passed set : 0.758804979965132\n",
            "--------------------\n",
            "Model 1\n",
            "41/41 [==============================] - 11s 165ms/step\n",
            "F1 on passed set : 0.7501622762494715\n",
            "--------------------\n",
            "Model 2\n",
            "41/41 [==============================] - 8s 131ms/step\n",
            "F1 on passed set : 0.760845488764656\n"
          ]
        }
      ],
      "source": [
        "print(\"Model Baseline\")\n",
        "print_metric(model0, X_valid, y_valid)\n",
        "print(\"-\"*20)\n",
        "print(\"Model 1\")\n",
        "print_metric(model1, X_valid, y_valid)\n",
        "print(\"-\"*20)\n",
        "print(\"Model 2\")\n",
        "print_metric(model2, X_valid, y_valid)"
      ]
    },
    {
      "cell_type": "markdown",
      "metadata": {
        "id": "GD-nurWLHeKi"
      },
      "source": [
        "# [Task 6 - 1.0 points] Error Analysis\n",
        "\n",
        "You are tasked to evaluate your best performing model."
      ]
    },
    {
      "cell_type": "markdown",
      "metadata": {
        "id": "4XGoM2zxHeKi"
      },
      "source": [
        "### Instructions\n",
        "\n",
        "* Compare the errors made on the validation and test sets.\n",
        "* Aggregate model errors into categories (if possible)\n",
        "* Comment the about errors and propose possible solutions on how to address them."
      ]
    },
    {
      "cell_type": "markdown",
      "metadata": {
        "id": "ZwRKup3rdr74"
      },
      "source": [
        "## Evaluation on test set"
      ]
    },
    {
      "cell_type": "code",
      "execution_count": null,
      "metadata": {
        "colab": {
          "base_uri": "https://localhost:8080/"
        },
        "id": "ZxeAF1JLUAsN",
        "outputId": "0174a36d-e189-485f-95b2-916b6f60a4b2"
      },
      "outputs": [
        {
          "name": "stdout",
          "output_type": "stream",
          "text": [
            "Model 2\n",
            "21/21 [==============================] - 3s 123ms/step\n",
            "F1 on passed set : 0.7947982138651803\n"
          ]
        }
      ],
      "source": [
        "print(\"Model 2\")\n",
        "print_metric(model2, X_test, y_test)"
      ]
    },
    {
      "cell_type": "markdown",
      "metadata": {
        "id": "S4Q6lDf0dt1d"
      },
      "source": [
        "## Error comparison"
      ]
    },
    {
      "cell_type": "code",
      "execution_count": null,
      "metadata": {
        "colab": {
          "base_uri": "https://localhost:8080/"
        },
        "id": "NXUFphdjSsOw",
        "outputId": "793eb6c3-f904-4368-cc0c-17e78fbd98dc"
      },
      "outputs": [
        {
          "name": "stdout",
          "output_type": "stream",
          "text": [
            "Generated random indices: [296, 85, 17, 606, 314, 433, 388, 542, 366, 133]\n",
            "\n",
            "Metric over the generated dataset: \n",
            "1/1 [==============================] - 0s 75ms/step\n",
            "F1 on passed set : 0.8196157927040281\n",
            "\n",
            "1/1 [==============================] - 0s 74ms/step\n",
            "\n",
            "True tags:\n",
            "['NNP' 'POS' 'NN' 'NNP' 'VBD' 'DT' 'NN' 'POS' 'NN' 'VBD' 'VBN' 'CC' 'DT'\n",
            " 'NN' 'VBD' 'VBG' 'RB']\n",
            "Predicted tags:\n",
            "['NNP' 'POS' 'NNP' 'NNP' 'VBD' 'DT' 'NN' 'POS' 'NN' 'VBD' 'VBN' 'CC' 'DT'\n",
            " 'NN' 'VBD' 'VBG' 'RB']\n"
          ]
        },
        {
          "name": "stderr",
          "output_type": "stream",
          "text": [
            "<ipython-input-42-b2a2f6965a75>:20: VisibleDeprecationWarning: Creating an ndarray from ragged nested sequences (which is a list-or-tuple of lists-or-tuples-or ndarrays with different lengths or shapes) is deprecated. If you meant to do this, you must specify 'dtype=object' when creating the ndarray.\n",
            "  y_true_unpadded = np.array([row[row != 0] for row in y_true_masked])\n",
            "<ipython-input-42-b2a2f6965a75>:21: VisibleDeprecationWarning: Creating an ndarray from ragged nested sequences (which is a list-or-tuple of lists-or-tuples-or ndarrays with different lengths or shapes) is deprecated. If you meant to do this, you must specify 'dtype=object' when creating the ndarray.\n",
            "  y_true_tags = np.array([remove_punctuation(sequence)[0] for sequence in y_true_unpadded])\n",
            "<ipython-input-42-b2a2f6965a75>:24: VisibleDeprecationWarning: Creating an ndarray from ragged nested sequences (which is a list-or-tuple of lists-or-tuples-or ndarrays with different lengths or shapes) is deprecated. If you meant to do this, you must specify 'dtype=object' when creating the ndarray.\n",
            "  y_pred_unpadded = np.array([row[row != 0] for row in y_pred_masked])\n",
            "<ipython-input-42-b2a2f6965a75>:25: VisibleDeprecationWarning: Creating an ndarray from ragged nested sequences (which is a list-or-tuple of lists-or-tuples-or ndarrays with different lengths or shapes) is deprecated. If you meant to do this, you must specify 'dtype=object' when creating the ndarray.\n",
            "  y_pred_tags = np.array([remove_punctuation(sequence)[0] for sequence in y_pred_unpadded])\n"
          ]
        }
      ],
      "source": [
        "# Generate random index for samples\n",
        "samples = [random.randint(0, X_test.shape[0]-1) for i in range(10)]\n",
        "print(f\"Generated random indices: {samples}\")\n",
        "print()\n",
        "\n",
        "# F1-Score on one random sample\n",
        "print(\"Metric over the generated dataset: \")\n",
        "print_metric(model2, X_test[samples], y_test[samples])\n",
        "print()\n",
        "\n",
        "# Perform inference over the selected samples\n",
        "y_pred_test = model2.predict(X_test[samples])\n",
        "\n",
        "# Get each tag with the maximum probability\n",
        "y_pred_class = tf.cast(tf.math.argmax(y_pred_test, axis=-1),\"int32\")\n",
        "mask = tf.cast(tf.math.not_equal(y_test[samples], 0), 'int32')\n",
        "\n",
        "# Reverse the preprocessing\n",
        "y_true_masked = (tf.cast(y_test[samples], 'int32') * mask).numpy()\n",
        "y_true_unpadded = np.array([row[row != 0] for row in y_true_masked])\n",
        "y_true_tags = np.array([remove_punctuation(sequence)[0] for sequence in y_true_unpadded])\n",
        "\n",
        "y_pred_masked = (tf.cast(y_pred_class,'int32') * mask).numpy()\n",
        "y_pred_unpadded = np.array([row[row != 0] for row in y_pred_masked])\n",
        "y_pred_tags = np.array([remove_punctuation(sequence)[0] for sequence in y_pred_unpadded])\n",
        "\n",
        "print()\n",
        "print(\"True tags:\")\n",
        "print(y_pred_tags[0])\n",
        "print(\"Predicted tags:\")\n",
        "print(y_true_tags[0])"
      ]
    },
    {
      "cell_type": "code",
      "execution_count": null,
      "metadata": {
        "colab": {
          "base_uri": "https://localhost:8080/"
        },
        "id": "YBPxjC9gfOpy",
        "outputId": "cb79e40f-e8be-4908-a8c8-a624706505ee"
      },
      "outputs": [
        {
          "name": "stdout",
          "output_type": "stream",
          "text": [
            "SAMPLE 296\n",
            "-------------------------------------------------------\n",
            "Sentence: ['mexico', \"'s\", 'president', 'salinas', 'said', 'the', 'country', \"'s\", 'recession', 'had', 'ended', 'and', 'the', 'economy', 'was', 'growing', 'again', '.']\n",
            "True tags: ['NNP' 'POS' 'NNP' 'NNP' 'VBD' 'DT' 'NN' 'POS' 'NN' 'VBD' 'VBN' 'CC' 'DT'\n",
            " 'NN' 'VBD' 'VBG' 'RB']\n",
            "Predicted tags: ['NNP' 'POS' 'NN' 'NNP' 'VBD' 'DT' 'NN' 'POS' 'NN' 'VBD' 'VBN' 'CC' 'DT'\n",
            " 'NN' 'VBD' 'VBG' 'RB']\n",
            "\n",
            "SAMPLE 85\n",
            "-------------------------------------------------------\n",
            "Sentence: ['the', 'soviets', 'are', 'widely', 'believed', 'to', 'need', 'additional', 'supplies', ',', 'despite', 'running', 'up', 'record', 'one-month', 'purchases', 'of', '310', 'million', 'bushels', 'of', 'corn', 'in', 'october', '.']\n",
            "True tags: ['DT' 'NNPS' 'VBP' 'RB' 'VBN' 'TO' 'VB' 'JJ' 'NNS' 'IN' 'VBG' 'RP' 'JJ'\n",
            " 'JJ' 'NNS' 'IN' 'CD' 'CD' 'NNS' 'IN' 'NN' 'IN' 'NNP']\n",
            "Predicted tags: ['DT' 'NNS' 'VBP' 'RB' 'VBN' 'TO' 'VB' 'JJ' 'NNS' 'IN' 'VBG' 'IN' 'JJ'\n",
            " 'JJ' 'NNS' 'IN' 'NNP' 'CD' 'NN' 'IN' 'NNP' 'IN' 'NNP']\n",
            "\n",
            "SAMPLE 17\n",
            "-------------------------------------------------------\n",
            "Sentence: ['in', 'an', 'interview', ',', 'donald', 'beall', ',', 'chairman', ',', 'said', 'first-half', 'profit', 'certainly', 'would', 'trail', 'the', 'past', 'year', \"'s\", ',', 'primarily', 'because', 'of', 'weakness', 'in', 'the', 'heavy-truck', 'and', 'passenger-car', 'markets', '.']\n",
            "True tags: ['IN' 'DT' 'NN' 'NNP' 'NNP' 'NN' 'VBD' 'JJ' 'NN' 'RB' 'MD' 'VB' 'DT' 'JJ'\n",
            " 'NN' 'POS' 'RB' 'IN' 'IN' 'NN' 'IN' 'DT' 'NN' 'CC' 'NN' 'NNS']\n",
            "Predicted tags: ['IN' 'DT' 'NN' 'NNP' 'NNP' 'NN' 'VBD' 'NNP' 'NN' 'RB' 'MD' 'VB' 'DT' 'JJ'\n",
            " 'NN' 'POS' 'RB' 'IN' 'IN' 'NN' 'IN' 'DT' 'NNP' 'CC' 'NNP' 'NNS']\n",
            "\n",
            "SAMPLE 606\n",
            "-------------------------------------------------------\n",
            "Sentence: ['usx', 'corp.', 'posted', 'a', '23', '%', 'drop', 'in', 'third-quarter', 'profit', ',', 'as', 'improved', 'oil', 'results', 'failed', 'to', 'offset', 'weakness', 'in', 'steel', 'and', 'natural', 'gas', 'operations', '.']\n",
            "True tags: ['NNP' 'NNP' 'VBD' 'DT' 'CD' 'NN' 'NN' 'IN' 'NN' 'NN' 'IN' 'VBN' 'NN'\n",
            " 'NNS' 'VBD' 'TO' 'VB' 'NN' 'IN' 'NN' 'CC' 'JJ' 'NN' 'NNS']\n",
            "Predicted tags: ['NNP' 'NNP' 'VBD' 'DT' 'CD' 'NN' 'NN' 'IN' 'JJ' 'NN' 'RB' 'VBN' 'NN'\n",
            " 'NNS' 'VBD' 'TO' 'VB' 'NN' 'IN' 'NN' 'CC' 'NNP' 'NN' 'NNS']\n",
            "\n",
            "SAMPLE 314\n",
            "-------------------------------------------------------\n",
            "Sentence: ['xerox', 'corp.', 'has', 'told', 'employees', 'in', 'its', 'crum', '&', 'forster', 'personal', 'insurance', 'operations', 'that', 'it', 'is', 'laying', 'off', 'about', '300', 'people', ',', 'or', '25', '%', 'of', 'the', 'staff', '.']\n",
            "True tags: ['NNP' 'NNP' 'VBZ' 'VBN' 'NNS' 'IN' 'PRP' 'NNP' 'CC' 'NNP' 'JJ' 'NN' 'NNS'\n",
            " 'IN' 'PRP' 'VBZ' 'VBG' 'RP' 'IN' 'CD' 'NNS' 'CC' 'CD' 'NN' 'IN' 'DT' 'NN']\n",
            "Predicted tags: ['NNP' 'NNP' 'VBZ' 'VBD' 'NNS' 'IN' 'PRP' 'NNP' 'CC' 'NNP' 'JJ' 'NN' 'NNS'\n",
            " 'IN' 'PRP' 'VBZ' 'VBN' 'RP' 'IN' 'CD' 'NNS' 'CC' 'CD' 'NN' 'IN' 'DT' 'NN']\n",
            "\n",
            "SAMPLE 433\n",
            "-------------------------------------------------------\n",
            "Sentence: ['because', 'of', 'the', 'rulings', ',', 'the', 'commerce', 'department', 'will', 'continue', 'to', 'investigate', 'complaints', 'by', 'u.s.', 'sweater', 'makers', 'that', 'the', 'imports', 'are', 'reaching', 'the', 'u.s.', 'at', 'unfairly', 'low', 'prices', 'in', 'violation', 'of', 'the', 'u.s.', 'anti-dumping', 'act', '.']\n",
            "True tags: ['IN' 'IN' 'DT' 'NNS' 'DT' 'NNP' 'NNP' 'MD' 'VB' 'TO' 'VB' 'NNS' 'IN'\n",
            " 'NNP' 'NN' 'NNS' 'IN' 'DT' 'NNS' 'VBP' 'VBG' 'DT' 'NNP' 'IN' 'RB' 'JJ'\n",
            " 'NNS' 'IN' 'NN' 'IN' 'DT' 'NNP' 'JJ' 'NN']\n",
            "Predicted tags: ['IN' 'IN' 'DT' 'NNP' 'DT' 'NNP' 'NNP' 'MD' 'VB' 'TO' 'VB' 'NNS' 'IN'\n",
            " 'NNP' 'NNP' 'NNS' 'IN' 'DT' 'NNS' 'VBP' 'VBN' 'DT' 'NNP' 'IN' 'RB' 'JJ'\n",
            " 'NNS' 'IN' 'NN' 'IN' 'DT' 'NNP' 'NNP' 'NNP']\n",
            "\n",
            "SAMPLE 388\n",
            "-------------------------------------------------------\n",
            "Sentence: ['some', 'think', 'columbia', \"'s\", 'thrift', ',', 'which', 'now', 'is', 'seeking', 'a', 'new', 'chief', 'operating', 'officer', ',', 'might', 'be', 'capitalized', 'at', ',', 'say', '$', '300', 'million', ',', 'and', 'shopped', 'to', 'a', 'commercial', 'bank', 'that', 'wants', 'a', 'california', 'presence', '.']\n",
            "True tags: ['DT' 'VBP' 'NNP' 'POS' 'NN' 'WDT' 'RB' 'VBZ' 'VBG' 'DT' 'JJ' 'NN' 'VBG'\n",
            " 'NN' 'MD' 'VB' 'VBN' 'IN' 'VB' 'CD' 'CD' 'CC' 'VBD' 'TO' 'DT' 'JJ' 'NN'\n",
            " 'WDT' 'VBZ' 'DT' 'NNP' 'NN']\n",
            "Predicted tags: ['DT' 'VBP' 'NNP' 'POS' 'NN' 'WDT' 'RB' 'VBZ' 'VBG' 'DT' 'JJ' 'NN' 'VBG'\n",
            " 'NN' 'MD' 'VB' 'VBN' 'IN' 'VBP' 'CD' 'CD' 'CC' 'NNP' 'TO' 'DT' 'JJ' 'NN'\n",
            " 'WDT' 'VBZ' 'DT' 'NN' 'NN']\n",
            "\n",
            "SAMPLE 542\n",
            "-------------------------------------------------------\n",
            "Sentence: ['river', 'barge', 'rates', 'have', 'soared', '40', '%', 'this', 'fall', 'from', 'a', 'year', 'earlier', '.']\n",
            "True tags: ['NN' 'NN' 'NNS' 'VBP' 'VBN' 'CD' 'NN' 'DT' 'NN' 'IN' 'DT' 'NN' 'JJR']\n",
            "Predicted tags: ['NNP' 'NNP' 'NNS' 'VBP' 'VBN' 'CD' 'NN' 'DT' 'NN' 'IN' 'DT' 'NN' 'JJR']\n",
            "\n",
            "SAMPLE 366\n",
            "-------------------------------------------------------\n",
            "Sentence: ['moreover', ',', 'junk', 'professionals', 'think', 'columbia', \"'s\", 'huge', 'third-quarter', 'markdown', 'of', 'its', 'junk', 'portfolio', 'to', '$', '4.4', 'billion', 'was', \"n't\", 'enough', ',', 'meaning', 'another', 'markdown', 'could', 'be', 'coming', '.']\n",
            "True tags: ['RB' 'NN' 'NNS' 'VBP' 'NNP' 'POS' 'JJ' 'NN' 'NN' 'IN' 'PRP' 'NN' 'NN'\n",
            " 'TO' 'CD' 'CD' 'VBD' 'RB' 'RB' 'VBG' 'DT' 'NN' 'MD' 'VB' 'VBG']\n",
            "Predicted tags: ['RB' 'JJ' 'NNS' 'VBP' 'NNP' 'POS' 'JJ' 'JJ' 'NN' 'IN' 'PRP' 'JJ' 'NN'\n",
            " 'TO' 'CD' 'CD' 'VBD' 'RB' 'RB' 'DT' 'DT' 'NN' 'MD' 'VB' 'VBG']\n",
            "\n",
            "SAMPLE 133\n",
            "-------------------------------------------------------\n",
            "Sentence: ['cara', ',', 'a', 'food', 'services', 'chain', 'operator', 'and', 'unicorp', ',', 'a', 'holding', 'company', ',', 'are', 'based', 'in', 'toronto', '.']\n",
            "True tags: ['NNP' 'DT' 'NN' 'NNS' 'NN' 'NN' 'CC' 'NNP' 'DT' 'VBG' 'NN' 'VBP' 'VBN'\n",
            " 'IN' 'NNP']\n",
            "Predicted tags: ['NNP' 'DT' 'NN' 'NNS' 'NN' 'NN' 'CC' 'NNP' 'DT' 'JJ' 'NN' 'VBP' 'VBN'\n",
            " 'IN' 'NNP']\n",
            "\n"
          ]
        }
      ],
      "source": [
        "for (i, idx) in enumerate(samples):\n",
        "  print(f\"SAMPLE {idx}\")\n",
        "  print(\"-------------------------------------------------------\")\n",
        "  print(f\"Sentence: {dataset['test']['sequence'].to_numpy()[idx]}\")\n",
        "  print(f\"True tags: {y_true_tags[i]}\")\n",
        "  print(f\"Predicted tags: {y_pred_tags[i]}\")\n",
        "  print()"
      ]
    },
    {
      "cell_type": "code",
      "execution_count": null,
      "metadata": {
        "colab": {
          "base_uri": "https://localhost:8080/"
        },
        "id": "5vdgHFQBWcnf",
        "outputId": "2c25729e-3813-4c59-b584-7c169b01d479"
      },
      "outputs": [],
      "source": [
        "from sklearn.metrics import multilabel_confusion_matrix, classification_report, confusion_matrix, ConfusionMatrixDisplay\n",
        "\n",
        "def compute_MCM(y_true, y_pred):\n",
        "  y_pred_class = tf.cast(tf.math.argmax(y_pred, axis=-1),\"int32\")\n",
        "  mask = tf.cast(tf.math.not_equal(y_true, 0), 'int32')\n",
        "  #print(y_pred_class*mask)\n",
        "  #y_pred_unpadded,indexes_pred_unpadded = np.array(remove_punctuation(remove_padding(y_pred_class * mask)))\n",
        "  y_true_unpadded,removed_indexes= remove_punctuation(remove_padding(tf.cast(y_true,'int32') * mask))\n",
        "  #Remove indexes punctuations tokens in y_pred\n",
        "  y_pred_unpadded = reverse_vectorization_tags(remove_padding(y_pred_class * mask).numpy())\n",
        "  y_pred_unpadded= np.delete(y_pred_unpadded,removed_indexes)\n",
        "\n",
        "  mcm = multilabel_confusion_matrix(y_true_unpadded, y_pred_unpadded, labels=POS_TAGS)\n",
        "  cm = confusion_matrix(y_true_unpadded, y_pred_unpadded, labels=POS_TAGS)\n",
        "  cr = classification_report(y_true_unpadded, y_pred_unpadded, labels=POS_TAGS, target_names=POS_TAGS, digits=4, zero_division=0)\n",
        "\n",
        "  return mcm, cm, cr\n",
        "\n",
        "print(\"\\n PER-TAG CONFUSION MATRIX: \\n\")\n",
        "def print_MCM(model, features, labels):\n",
        "  predictions = model.predict(features)\n",
        "  mcm, cm, cr = compute_MCM(labels, predictions)\n",
        "\n",
        "  for (i, tag) in enumerate(POS_TAGS):\n",
        "    print(f\"\\n[{tag}] Confusion Matrix: \\n {mcm[i]}\")\n",
        "\n",
        "  print(\"\\n CLASSIFICATION REPORT: \\n\")\n",
        "  print(cr)\n",
        "\n",
        "  print(\"\\n COMPLETE CONFUSION MATRIX: \\n\")\n",
        "  disp = ConfusionMatrixDisplay(cm, display_labels=POS_TAGS)\n",
        "  fig, ax = plt.subplots(figsize=(20,20))\n",
        "  disp.plot(ax=ax)"
      ]
    },
    {
      "cell_type": "code",
      "execution_count": null,
      "metadata": {
        "colab": {
          "base_uri": "https://localhost:8080/",
          "height": 1000
        },
        "id": "z8TnFcXlnvgY",
        "outputId": "99f4da7e-40dd-4ad2-e7e0-9f1f12ffdafc"
      },
      "outputs": [
        {
          "name": "stdout",
          "output_type": "stream",
          "text": [
            "21/21 [==============================] - 2s 83ms/step\n",
            "\n",
            "[PAD] Confusion Matrix: \n",
            " [[13712     0]\n",
            " [    0     0]]\n",
            "\n",
            "[#] Confusion Matrix: \n",
            " [[13712     0]\n",
            " [    0     0]]\n",
            "\n",
            "[$] Confusion Matrix: \n",
            " [[13712     0]\n",
            " [    0     0]]\n",
            "\n",
            "[''] Confusion Matrix: \n",
            " [[13712     0]\n",
            " [    0     0]]\n",
            "\n",
            "[,] Confusion Matrix: \n",
            " [[13712     0]\n",
            " [    0     0]]\n",
            "\n",
            "[-LRB-] Confusion Matrix: \n",
            " [[13694    18]\n",
            " [    0     0]]\n",
            "\n",
            "[-RRB-] Confusion Matrix: \n",
            " [[13696    16]\n",
            " [    0     0]]\n",
            "\n",
            "[.] Confusion Matrix: \n",
            " [[13712     0]\n",
            " [    0     0]]\n",
            "\n",
            "[:] Confusion Matrix: \n",
            " [[13711     1]\n",
            " [    0     0]]\n",
            "\n",
            "[CC] Confusion Matrix: \n",
            " [[13345     1]\n",
            " [    1   365]]\n",
            "\n",
            "[CD] Confusion Matrix: \n",
            " [[12842    12]\n",
            " [  146   712]]\n",
            "\n",
            "[DT] Confusion Matrix: \n",
            " [[12362    15]\n",
            " [   11  1324]]\n",
            "\n",
            "[EX] Confusion Matrix: \n",
            " [[13706     1]\n",
            " [    0     5]]\n",
            "\n",
            "[FW] Confusion Matrix: \n",
            " [[13712     0]\n",
            " [    0     0]]\n",
            "\n",
            "[IN] Confusion Matrix: \n",
            " [[12046    36]\n",
            " [   45  1585]]\n",
            "\n",
            "[JJ] Confusion Matrix: \n",
            " [[12517   277]\n",
            " [  231   687]]\n",
            "\n",
            "[JJR] Confusion Matrix: \n",
            " [[13643    10]\n",
            " [   19    40]]\n",
            "\n",
            "[JJS] Confusion Matrix: \n",
            " [[13679     2]\n",
            " [    7    24]]\n",
            "\n",
            "[LS] Confusion Matrix: \n",
            " [[13712     0]\n",
            " [    0     0]]\n",
            "\n",
            "[MD] Confusion Matrix: \n",
            " [[13541     4]\n",
            " [    1   166]]\n",
            "\n",
            "[NN] Confusion Matrix: \n",
            " [[11001   328]\n",
            " [  432  1951]]\n",
            "\n",
            "[NNP] Confusion Matrix: \n",
            " [[11492   716]\n",
            " [  143  1361]]\n",
            "\n",
            "[NNPS] Confusion Matrix: \n",
            " [[13668     0]\n",
            " [   42     2]]\n",
            "\n",
            "[NNS] Confusion Matrix: \n",
            " [[12726    45]\n",
            " [  217   724]]\n",
            "\n",
            "[PDT] Confusion Matrix: \n",
            " [[13708     0]\n",
            " [    4     0]]\n",
            "\n",
            "[POS] Confusion Matrix: \n",
            " [[13560     0]\n",
            " [    0   152]]\n",
            "\n",
            "[PRP] Confusion Matrix: \n",
            " [[13421     0]\n",
            " [  100   191]]\n",
            "\n",
            "[PRP$] Confusion Matrix: \n",
            " [[13613    99]\n",
            " [    0     0]]\n",
            "\n",
            "[RB] Confusion Matrix: \n",
            " [[13285    46]\n",
            " [   58   323]]\n",
            "\n",
            "[RBR] Confusion Matrix: \n",
            " [[13688     9]\n",
            " [   12     3]]\n",
            "\n",
            "[RBS] Confusion Matrix: \n",
            " [[13708     1]\n",
            " [    1     2]]\n",
            "\n",
            "[RP] Confusion Matrix: \n",
            " [[13663    16]\n",
            " [   12    21]]\n",
            "\n",
            "[SYM] Confusion Matrix: \n",
            " [[13712     0]\n",
            " [    0     0]]\n",
            "\n",
            "[TO] Confusion Matrix: \n",
            " [[13326     0]\n",
            " [    0   386]]\n",
            "\n",
            "[UH] Confusion Matrix: \n",
            " [[13712     0]\n",
            " [    0     0]]\n",
            "\n",
            "[VB] Confusion Matrix: \n",
            " [[13261    48]\n",
            " [   25   378]]\n",
            "\n",
            "[VBD] Confusion Matrix: \n",
            " [[13041    37]\n",
            " [   92   542]]\n",
            "\n",
            "[VBG] Confusion Matrix: \n",
            " [[13460    31]\n",
            " [   94   127]]\n",
            "\n",
            "[VBN] Confusion Matrix: \n",
            " [[13251    95]\n",
            " [   98   268]]\n",
            "\n",
            "[VBP] Confusion Matrix: \n",
            " [[13566    12]\n",
            " [   23   111]]\n",
            "\n",
            "[VBZ] Confusion Matrix: \n",
            " [[13417    15]\n",
            " [   36   244]]\n",
            "\n",
            "[WDT] Confusion Matrix: \n",
            " [[13621     7]\n",
            " [    6    78]]\n",
            "\n",
            "[WP] Confusion Matrix: \n",
            " [[13688     0]\n",
            " [    4    20]]\n",
            "\n",
            "[WP$] Confusion Matrix: \n",
            " [[13712     0]\n",
            " [    0     0]]\n",
            "\n",
            "[WRB] Confusion Matrix: \n",
            " [[13688     0]\n",
            " [    2    22]]\n",
            "\n",
            "[``] Confusion Matrix: \n",
            " [[13712     0]\n",
            " [    0     0]]\n",
            "\n",
            " CLASSIFICATION REPORT: \n",
            "\n",
            "              precision    recall  f1-score   support\n",
            "\n",
            "         PAD     0.0000    0.0000    0.0000         0\n",
            "           #     0.0000    0.0000    0.0000         0\n",
            "           $     0.0000    0.0000    0.0000         0\n",
            "          ''     0.0000    0.0000    0.0000         0\n",
            "           ,     0.0000    0.0000    0.0000         0\n",
            "       -LRB-     0.0000    0.0000    0.0000         0\n",
            "       -RRB-     0.0000    0.0000    0.0000         0\n",
            "           .     0.0000    0.0000    0.0000         0\n",
            "           :     0.0000    0.0000    0.0000         0\n",
            "          CC     0.9973    0.9973    0.9973       366\n",
            "          CD     0.9834    0.8298    0.9001       858\n",
            "          DT     0.9888    0.9918    0.9903      1335\n",
            "          EX     0.8333    1.0000    0.9091         5\n",
            "          FW     0.0000    0.0000    0.0000         0\n",
            "          IN     0.9778    0.9724    0.9751      1630\n",
            "          JJ     0.7127    0.7484    0.7301       918\n",
            "         JJR     0.8000    0.6780    0.7339        59\n",
            "         JJS     0.9231    0.7742    0.8421        31\n",
            "          LS     0.0000    0.0000    0.0000         0\n",
            "          MD     0.9765    0.9940    0.9852       167\n",
            "          NN     0.8561    0.8187    0.8370      2383\n",
            "         NNP     0.6553    0.9049    0.7601      1504\n",
            "        NNPS     1.0000    0.0455    0.0870        44\n",
            "         NNS     0.9415    0.7694    0.8468       941\n",
            "         PDT     0.0000    0.0000    0.0000         4\n",
            "         POS     1.0000    1.0000    1.0000       152\n",
            "         PRP     1.0000    0.6564    0.7925       291\n",
            "        PRP$     0.0000    0.0000    0.0000         0\n",
            "          RB     0.8753    0.8478    0.8613       381\n",
            "         RBR     0.2500    0.2000    0.2222        15\n",
            "         RBS     0.6667    0.6667    0.6667         3\n",
            "          RP     0.5676    0.6364    0.6000        33\n",
            "         SYM     0.0000    0.0000    0.0000         0\n",
            "          TO     1.0000    1.0000    1.0000       386\n",
            "          UH     0.0000    0.0000    0.0000         0\n",
            "          VB     0.8873    0.9380    0.9119       403\n",
            "         VBD     0.9361    0.8549    0.8937       634\n",
            "         VBG     0.8038    0.5747    0.6702       221\n",
            "         VBN     0.7383    0.7322    0.7353       366\n",
            "         VBP     0.9024    0.8284    0.8638       134\n",
            "         VBZ     0.9421    0.8714    0.9054       280\n",
            "         WDT     0.9176    0.9286    0.9231        84\n",
            "          WP     1.0000    0.8333    0.9091        24\n",
            "         WP$     0.0000    0.0000    0.0000         0\n",
            "         WRB     1.0000    0.9167    0.9565        24\n",
            "          ``     0.0000    0.0000    0.0000         0\n",
            "\n",
            "   micro avg     0.8616    0.8638    0.8627     13676\n",
            "   macro avg     0.5464    0.5002    0.5110     13676\n",
            "weighted avg     0.8826    0.8638    0.8673     13676\n",
            "\n",
            "\n",
            " COMPLETE CONFUSION MATRIX: \n",
            "\n"
          ]
        },
        {
          "data": {
            "image/png": "[encoded data removed]",
            "text/plain": [
              "<Figure size 2000x2000 with 2 Axes>"
            ]
          },
          "metadata": {},
          "output_type": "display_data"
        }
      ],
      "source": [
        "print_MCM(model2, X_test, y_test)"
      ]
    },
    {
      "cell_type": "code",
      "execution_count": null,
      "metadata": {
        "colab": {
          "base_uri": "https://localhost:8080/",
          "height": 1000
        },
        "id": "xMqaWd1Rnv0p",
        "outputId": "c9452b8d-fb71-4bbd-c533-994420a0f039"
      },
      "outputs": [
        {
          "name": "stdout",
          "output_type": "stream",
          "text": [
            "41/41 [==============================] - 3s 82ms/step\n",
            "\n",
            "[PAD] Confusion Matrix: \n",
            " [[27521     0]\n",
            " [    0     0]]\n",
            "\n",
            "[#] Confusion Matrix: \n",
            " [[27521     0]\n",
            " [    0     0]]\n",
            "\n",
            "[$] Confusion Matrix: \n",
            " [[27521     0]\n",
            " [    0     0]]\n",
            "\n",
            "[''] Confusion Matrix: \n",
            " [[27521     0]\n",
            " [    0     0]]\n",
            "\n",
            "[,] Confusion Matrix: \n",
            " [[27520     1]\n",
            " [    0     0]]\n",
            "\n",
            "[-LRB-] Confusion Matrix: \n",
            " [[27472    49]\n",
            " [    0     0]]\n",
            "\n",
            "[-RRB-] Confusion Matrix: \n",
            " [[27458    63]\n",
            " [    0     0]]\n",
            "\n",
            "[.] Confusion Matrix: \n",
            " [[27521     0]\n",
            " [    0     0]]\n",
            "\n",
            "[:] Confusion Matrix: \n",
            " [[27521     0]\n",
            " [    0     0]]\n",
            "\n",
            "[CC] Confusion Matrix: \n",
            " [[26762     1]\n",
            " [   10   748]]\n",
            "\n",
            "[CD] Confusion Matrix: \n",
            " [[26256    16]\n",
            " [  271   978]]\n",
            "\n",
            "[DT] Confusion Matrix: \n",
            " [[24731    36]\n",
            " [   16  2738]]\n",
            "\n",
            "[EX] Confusion Matrix: \n",
            " [[27484     3]\n",
            " [    0    34]]\n",
            "\n",
            "[FW] Confusion Matrix: \n",
            " [[27519     0]\n",
            " [    2     0]]\n",
            "\n",
            "[IN] Confusion Matrix: \n",
            " [[24179    67]\n",
            " [   80  3195]]\n",
            "\n",
            "[JJ] Confusion Matrix: \n",
            " [[25030   567]\n",
            " [  473  1451]]\n",
            "\n",
            "[JJR] Confusion Matrix: \n",
            " [[27312    44]\n",
            " [   47   118]]\n",
            "\n",
            "[JJS] Confusion Matrix: \n",
            " [[27451    12]\n",
            " [   15    43]]\n",
            "\n",
            "[LS] Confusion Matrix: \n",
            " [[27518     0]\n",
            " [    3     0]]\n",
            "\n",
            "[MD] Confusion Matrix: \n",
            " [[27172     2]\n",
            " [   11   336]]\n",
            "\n",
            "[NN] Confusion Matrix: \n",
            " [[22197   811]\n",
            " [  756  3757]]\n",
            "\n",
            "[NNP] Confusion Matrix: \n",
            " [[23372  1445]\n",
            " [  338  2366]]\n",
            "\n",
            "[NNPS] Confusion Matrix: \n",
            " [[27415     1]\n",
            " [  104     1]]\n",
            "\n",
            "[NNS] Confusion Matrix: \n",
            " [[25288   131]\n",
            " [  567  1535]]\n",
            "\n",
            "[PDT] Confusion Matrix: \n",
            " [[27507     0]\n",
            " [   14     0]]\n",
            "\n",
            "[POS] Confusion Matrix: \n",
            " [[27247     5]\n",
            " [    1   268]]\n",
            "\n",
            "[PRP] Confusion Matrix: \n",
            " [[26692     1]\n",
            " [  265   563]]\n",
            "\n",
            "[PRP$] Confusion Matrix: \n",
            " [[27262   259]\n",
            " [    0     0]]\n",
            "\n",
            "[RB] Confusion Matrix: \n",
            " [[26466   104]\n",
            " [  152   799]]\n",
            "\n",
            "[RBR] Confusion Matrix: \n",
            " [[27471    15]\n",
            " [   30     5]]\n",
            "\n",
            "[RBS] Confusion Matrix: \n",
            " [[27505     3]\n",
            " [   11     2]]\n",
            "\n",
            "[RP] Confusion Matrix: \n",
            " [[27461    17]\n",
            " [   22    21]]\n",
            "\n",
            "[SYM] Confusion Matrix: \n",
            " [[27521     0]\n",
            " [    0     0]]\n",
            "\n",
            "[TO] Confusion Matrix: \n",
            " [[26756     0]\n",
            " [    0   765]]\n",
            "\n",
            "[UH] Confusion Matrix: \n",
            " [[27519     0]\n",
            " [    2     0]]\n",
            "\n",
            "[VB] Confusion Matrix: \n",
            " [[26450   115]\n",
            " [  162   794]]\n",
            "\n",
            "[VBD] Confusion Matrix: \n",
            " [[26573    87]\n",
            " [  152   709]]\n",
            "\n",
            "[VBG] Confusion Matrix: \n",
            " [[26971    74]\n",
            " [  205   271]]\n",
            "\n",
            "[VBN] Confusion Matrix: \n",
            " [[26596   188]\n",
            " [  192   545]]\n",
            "\n",
            "[VBP] Confusion Matrix: \n",
            " [[26979    82]\n",
            " [  105   355]]\n",
            "\n",
            "[VBZ] Confusion Matrix: \n",
            " [[26771    38]\n",
            " [  128   584]]\n",
            "\n",
            "[WDT] Confusion Matrix: \n",
            " [[27342    22]\n",
            " [   21   136]]\n",
            "\n",
            "[WP] Confusion Matrix: \n",
            " [[27434     3]\n",
            " [    4    80]]\n",
            "\n",
            "[WP$] Confusion Matrix: \n",
            " [[27521     0]\n",
            " [    0     0]]\n",
            "\n",
            "[WRB] Confusion Matrix: \n",
            " [[27459     0]\n",
            " [    0    62]]\n",
            "\n",
            "[``] Confusion Matrix: \n",
            " [[27521     0]\n",
            " [    0     0]]\n",
            "\n",
            " CLASSIFICATION REPORT: \n",
            "\n",
            "              precision    recall  f1-score   support\n",
            "\n",
            "         PAD     0.0000    0.0000    0.0000         0\n",
            "           #     0.0000    0.0000    0.0000         0\n",
            "           $     0.0000    0.0000    0.0000         0\n",
            "          ''     0.0000    0.0000    0.0000         0\n",
            "           ,     0.0000    0.0000    0.0000         0\n",
            "       -LRB-     0.0000    0.0000    0.0000         0\n",
            "       -RRB-     0.0000    0.0000    0.0000         0\n",
            "           .     0.0000    0.0000    0.0000         0\n",
            "           :     0.0000    0.0000    0.0000         0\n",
            "          CC     0.9987    0.9868    0.9927       758\n",
            "          CD     0.9839    0.7830    0.8720      1249\n",
            "          DT     0.9870    0.9942    0.9906      2754\n",
            "          EX     0.9189    1.0000    0.9577        34\n",
            "          FW     0.0000    0.0000    0.0000         2\n",
            "          IN     0.9795    0.9756    0.9775      3275\n",
            "          JJ     0.7190    0.7542    0.7362      1924\n",
            "         JJR     0.7284    0.7152    0.7217       165\n",
            "         JJS     0.7818    0.7414    0.7611        58\n",
            "          LS     0.0000    0.0000    0.0000         3\n",
            "          MD     0.9941    0.9683    0.9810       347\n",
            "          NN     0.8225    0.8325    0.8274      4513\n",
            "         NNP     0.6208    0.8750    0.7263      2704\n",
            "        NNPS     0.5000    0.0095    0.0187       105\n",
            "         NNS     0.9214    0.7303    0.8148      2102\n",
            "         PDT     0.0000    0.0000    0.0000        14\n",
            "         POS     0.9817    0.9963    0.9889       269\n",
            "         PRP     0.9982    0.6800    0.8089       828\n",
            "        PRP$     0.0000    0.0000    0.0000         0\n",
            "          RB     0.8848    0.8402    0.8619       951\n",
            "         RBR     0.2500    0.1429    0.1818        35\n",
            "         RBS     0.4000    0.1538    0.2222        13\n",
            "          RP     0.5526    0.4884    0.5185        43\n",
            "         SYM     0.0000    0.0000    0.0000         0\n",
            "          TO     1.0000    1.0000    1.0000       765\n",
            "          UH     0.0000    0.0000    0.0000         2\n",
            "          VB     0.8735    0.8305    0.8515       956\n",
            "         VBD     0.8907    0.8235    0.8558       861\n",
            "         VBG     0.7855    0.5693    0.6602       476\n",
            "         VBN     0.7435    0.7395    0.7415       737\n",
            "         VBP     0.8124    0.7717    0.7915       460\n",
            "         VBZ     0.9389    0.8202    0.8756       712\n",
            "         WDT     0.8608    0.8662    0.8635       157\n",
            "          WP     0.9639    0.9524    0.9581        84\n",
            "         WP$     0.0000    0.0000    0.0000         0\n",
            "         WRB     1.0000    1.0000    1.0000        62\n",
            "          ``     0.0000    0.0000    0.0000         0\n",
            "\n",
            "   micro avg     0.8451    0.8483    0.8467     27418\n",
            "   macro avg     0.5194    0.4791    0.4904     27418\n",
            "weighted avg     0.8679    0.8483    0.8522     27418\n",
            "\n",
            "\n",
            " COMPLETE CONFUSION MATRIX: \n",
            "\n"
          ]
        },
        {
          "data": {
            "image/png": "[encoded data removed]",
            "text/plain": [
              "<Figure size 2000x2000 with 2 Axes>"
            ]
          },
          "metadata": {},
          "output_type": "display_data"
        }
      ],
      "source": [
        "print_MCM(model2, X_valid, y_valid)"
      ]
    },
    {
      "cell_type": "markdown",
      "metadata": {
        "id": "EsHuaQuNZbKB"
      },
      "source": [
        "**Error Categories**\n",
        "\n",
        "Given the results above we can classify our errors in different categories:\n",
        "\n",
        "**Adverbs**\n",
        "\n",
        "Comparative/Superlative adverbs are most of the times confused with comparative/superlative adjectives.\n",
        "\n",
        "\\[RBR]: 'more'\n",
        "\n",
        "```\n",
        "SAMPLE 84\n",
        "-------------------------------------------------------\n",
        "Sentence:       ['that', 'designation', 'would', ',', 'among', 'other', 'things', ',', 'provide', 'more', 'generous', 'credit', 'terms', 'under', 'which', 'the', 'soviets', 'could', 'purchase', 'grain', '.']\n",
        "True tags:      ['DT' 'NN' 'MD' 'IN' 'JJ' 'NNS' 'VB' 'RBR' 'JJ' 'NN' 'NNS' 'IN' 'WDT' 'DT' 'NNPS' 'MD' 'VB' 'NN']\n",
        "Predicted tags: ['DT' 'NNP' 'MD' 'IN' 'JJ' 'NNS' 'VBP' 'JJR' 'JJ' 'NN' 'NNS' 'IN' 'WDT' 'DT' 'NNS' 'MD' 'VB' 'NN']\n",
        "```\n",
        "\n",
        "**Particles**\n",
        "\n",
        "Particles (as for phrasal verbs) are most of the times confused with prepositions.\n",
        "\n",
        "\\[RP]: 'down' (write down)\n",
        "\n",
        "```\n",
        " SAMPLE 378\n",
        "-------------------------------------------------------\n",
        "Sentence:       ['new', 'rules', 'force', 'thrifts', 'to', 'write', 'down', 'their', 'junk', 'to', 'market', 'value', ',', 'then', 'sell', 'the', 'bonds', 'over', 'five', 'years', '.']\n",
        "True tags:      ['JJ' 'NNS' 'VBP' 'NNS' 'TO' 'VB' 'RP' 'PRP' 'NN' 'TO' 'NN' 'NN' 'RB' 'VB' 'DT' 'NNS' 'IN' 'CD' 'NNS']\n",
        "Predicted tags: ['NNP' 'NNS' 'NNP' 'NNS' 'TO' 'VB' 'IN' 'PRP' 'NN' 'TO' 'NN' 'NN' 'RB' 'VB' 'DT' 'NNS' 'IN' 'CD' 'NNS']\n",
        "```\n",
        "\n",
        "**Nouns**\n",
        "\n",
        "Nouns, namely proper nouns, are confused many times.\n",
        "\n",
        "\\[NNS]: 'conferees'\n",
        "\\[NNS]: 'portions'\n",
        "\n",
        "```\n",
        "SAMPLE 287\n",
        "-------------------------------------------------------\n",
        "Sentence:       ['house-senate', 'conferees', 'approved', 'major', 'portions', 'of', 'a', 'package', 'for', 'more', 'than', '$', '500', 'million', 'in', 'economic', 'aid', 'for', 'poland', '.']\n",
        "True tags:      ['NNP' 'NNS' 'VBD' 'JJ' 'NNS' 'IN' 'DT' 'NN' 'IN' 'RBR' 'IN' 'CD' 'CD' 'IN' 'JJ' 'NN' 'IN' 'NNP']\n",
        "Predicted tags: ['NNP' 'NNP' 'VBD' 'JJ' 'NN' 'IN' 'DT' 'NN' 'IN' 'JJR' 'IN' 'CD' 'CD' 'IN' 'JJ' 'NN' 'IN' 'NNP']\n",
        "```\n",
        "\n",
        "**Verbs**\n",
        "\n",
        "Due to their nature, some verb tenses can be used as nouns or adjectives, therefore they are some times confused.\n",
        "\n",
        "\\[VBN]: 'specialized'\n",
        "\n",
        "```\n",
        "SAMPLE 426\n",
        "-------------------------------------------------------\n",
        "Sentence:       ['metallgesellschaft', ',', 'a', 'diversified', 'frankfurt', ',', 'west', 'germany-based', 'metals', 'group', ',', 'said', 'it', 'is', 'buying', 'the', 'stake', 'in', 'the', 'specialized', 'engineering', 'company', 'to', 'expand', 'its', 'production', 'of', 'environmental', 'supplies', 'for', 'power', 'plants', '.']\n",
        "True tags:      ['NN' 'DT' 'JJ' 'NNP' 'NNP' 'JJ' 'NNS' 'NN' 'VBD' 'PRP' 'VBZ' 'VBG' 'DT' 'NN' 'IN' 'DT' 'VBN' 'NN' 'NN' 'TO' 'VB' 'PRP' 'NN' 'IN' 'JJ' 'NNS' 'IN' 'NN' 'NNS']\n",
        "Predicted tags: ['NNP' 'DT' 'JJ' 'NNP' 'NNP' 'NNP' 'NNS' 'NNP' 'VBD' 'PRP' 'VBZ' 'VBG' 'DT' 'NN' 'IN' 'DT' 'NNP' 'NN' 'NN' 'TO' 'VB' 'PRP' 'NN' 'IN' 'NNP' 'VBD' 'IN' 'NN' 'NNS']\n",
        "```\n",
        "---\n",
        "**Possible Solutions**\n",
        "\n",
        "Most of the errors are solved with a bigger dataset. Since the amount of total RBR and RBS is really small, probably the model was not able to learn the difference between these ones and the JJR and JJS.\n",
        "Other problems like for the proper nouns could be partially resolved removing the lowercasing we performed on the preprocessing step. Most of the proper nouns are distinguished thanks to the capital letters and therefore they might be crucial for their differentiation.\n",
        "A pre-trained embedding with bigger vocabulary could also solve some of these problems, unfortunately most of the times bigger datasets and pretrained embedding are resources that are unavailable for us."
      ]
    },
    {
      "cell_type": "markdown",
      "metadata": {
        "id": "4qduXLsUHeKi"
      },
      "source": [
        "# [Task 7 - 1.0 points] Report\n",
        "\n",
        "Wrap up your experiment in a short report (up to 2 pages)."
      ]
    },
    {
      "cell_type": "markdown",
      "metadata": {
        "id": "OkOFEuwyHeKi"
      },
      "source": [
        "### Instructions\n",
        "\n",
        "* Use the NLP course report template.\n",
        "* Summarize each task in the report following the provided template."
      ]
    },
    {
      "cell_type": "markdown",
      "metadata": {
        "id": "sVRNOwxTHeKi"
      },
      "source": [
        "### Recommendations\n",
        "\n",
        "The report is not a copy-paste of graphs, tables, and command outputs.\n",
        "\n",
        "* Summarize classification performance in Table format.\n",
        "* **Do not** report command outputs or screenshots.\n",
        "* Report learning curves in Figure format.\n",
        "* The error analysis section should summarize your findings."
      ]
    },
    {
      "cell_type": "markdown",
      "metadata": {
        "id": "qrja09ArHeKi"
      },
      "source": [
        "# Submission\n",
        "\n",
        "* **Submit** your report in PDF format.\n",
        "* **Submit** your python notebook.\n",
        "* Make sure your notebook is **well organized**, with no temporary code, commented sections, tests, etc...\n",
        "* You can upload **model weights** in a cloud repository and report the link in the report."
      ]
    },
    {
      "cell_type": "markdown",
      "metadata": {
        "id": "c8-GYPoBHeKi"
      },
      "source": [
        "# FAQ\n",
        "\n",
        "Please check this frequently asked questions before contacting us"
      ]
    },
    {
      "cell_type": "markdown",
      "metadata": {
        "id": "X8r9drV_HeKj"
      },
      "source": [
        "### Trainable Embeddings\n",
        "\n",
        "You are **free** to define a trainable or non-trainable Embedding layer to load the GloVe embeddings."
      ]
    },
    {
      "cell_type": "markdown",
      "metadata": {
        "id": "n36gvtSkHeKj"
      },
      "source": [
        "### Model architecture\n",
        "\n",
        "You **should not** change the architecture of a model (i.e., its layers).\n",
        "\n",
        "However, you are **free** to play with their hyper-parameters."
      ]
    },
    {
      "cell_type": "markdown",
      "metadata": {
        "id": "UcCFFUxiHeKj"
      },
      "source": [
        "### Neural Libraries\n",
        "\n",
        "You are **free** to use any library of your choice to implement the networks (e.g., Keras, Tensorflow, PyTorch, JAX, etc...)"
      ]
    },
    {
      "cell_type": "markdown",
      "metadata": {
        "id": "n3H-FUuNHeKj"
      },
      "source": [
        "### Keras TimeDistributed Dense layer\n",
        "\n",
        "If you are using Keras, we recommend wrapping the final Dense layer with `TimeDistributed`."
      ]
    },
    {
      "cell_type": "markdown",
      "metadata": {
        "id": "WkRHDkdcHeKj"
      },
      "source": [
        "### Error Analysis\n",
        "\n",
        "Some topics for discussion include:\n",
        "   * Model performance on most/less frequent classes.\n",
        "   * Precision/Recall curves.\n",
        "   * Confusion matrices.\n",
        "   * Specific misclassified samples."
      ]
    },
    {
      "cell_type": "markdown",
      "metadata": {
        "id": "nqkRLuWEHeKj"
      },
      "source": [
        "### Punctuation\n",
        "\n",
        "**Do not** remove punctuation from documents since it may be helpful to the model.\n",
        "\n",
        "You should **ignore** it during metrics computation.\n",
        "\n",
        "If you are curious, you can run additional experiments to verify the impact of removing punctuation."
      ]
    },
    {
      "cell_type": "markdown",
      "metadata": {
        "id": "p98x1Z_bHeKj"
      },
      "source": [
        "# The End"
      ]
    }
  ],
  "metadata": {
    "celltoolbar": "Slideshow",
    "colab": {
      "provenance": []
    },
    "kernelspec": {
      "display_name": "Python 3 (ipykernel)",
      "language": "python",
      "name": "python3"
    },
    "language_info": {
      "codemirror_mode": {
        "name": "ipython",
        "version": 3
      },
      "file_extension": ".py",
      "mimetype": "text/x-python",
      "name": "python",
      "nbconvert_exporter": "python",
      "pygments_lexer": "ipython3",
      "version": "3.7.16"
    }
  },
  "nbformat": 4,
  "nbformat_minor": 0
}
